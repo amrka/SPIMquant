{
 "cells": [
  {
   "cell_type": "code",
   "execution_count": 32,
   "id": "c1fa882c-41c2-44a0-992d-d96375e91f89",
   "metadata": {},
   "outputs": [],
   "source": [
    "import dask.array as da\n",
    "# visualize blob detections\n",
    "\n",
    "\n",
    "blobs_zarr = 'out/results/sub-o21/micr/sub-o21_sample-brain_acq-prestitched_stain-{stain}_blobs.zarr'\n",
    "spim_zarr = '/cifs/prado/Kate/AK_Pipeline_LSM/spimprep/bids/sub-o21/micr/sub-o21_sample-brain_acq-prestitched_SPIM.ome.zarr'"
   ]
  },
  {
   "cell_type": "code",
   "execution_count": 33,
   "id": "951e0e8d-afa1-4d4b-a3a7-20350dff444b",
   "metadata": {},
   "outputs": [],
   "source": [
    "da_blobs = da.from_zarr(blobs_zarr.format(stain='BetaAmyloid'))"
   ]
  },
  {
   "cell_type": "code",
   "execution_count": 34,
   "id": "8952fed9-e8d9-4b4e-9987-1150cbb0693b",
   "metadata": {},
   "outputs": [],
   "source": [
    "da_img = da.from_zarr(spim_zarr,component='/5')"
   ]
  },
  {
   "cell_type": "code",
   "execution_count": 35,
   "id": "e2677512-4120-4534-ab6b-0c8df017a60c",
   "metadata": {},
   "outputs": [
    {
     "data": {
      "text/html": [
       "<table>\n",
       "    <tr>\n",
       "        <td>\n",
       "            <table style=\"border-collapse: collapse;\">\n",
       "                <thead>\n",
       "                    <tr>\n",
       "                        <td> </td>\n",
       "                        <th> Array </th>\n",
       "                        <th> Chunk </th>\n",
       "                    </tr>\n",
       "                </thead>\n",
       "                <tbody>\n",
       "                    \n",
       "                    <tr>\n",
       "                        <th> Bytes </th>\n",
       "                        <td> 699.33 MiB </td>\n",
       "                        <td> 6.86 MiB </td>\n",
       "                    </tr>\n",
       "                    \n",
       "                    <tr>\n",
       "                        <th> Shape </th>\n",
       "                        <td> (2159, 366, 232) </td>\n",
       "                        <td> (127, 122, 116) </td>\n",
       "                    </tr>\n",
       "                    <tr>\n",
       "                        <th> Dask graph </th>\n",
       "                        <td colspan=\"2\"> 102 chunks in 2 graph layers </td>\n",
       "                    </tr>\n",
       "                    <tr>\n",
       "                        <th> Data type </th>\n",
       "                        <td colspan=\"2\"> int32 numpy.ndarray </td>\n",
       "                    </tr>\n",
       "                </tbody>\n",
       "            </table>\n",
       "        </td>\n",
       "        <td>\n",
       "        <svg width=\"169\" height=\"161\" style=\"stroke:rgb(0,0,0);stroke-width:1\" >\n",
       "\n",
       "  <!-- Horizontal lines -->\n",
       "  <line x1=\"10\" y1=\"0\" x2=\"80\" y2=\"70\" style=\"stroke-width:2\" />\n",
       "  <line x1=\"10\" y1=\"13\" x2=\"80\" y2=\"84\" />\n",
       "  <line x1=\"10\" y1=\"27\" x2=\"80\" y2=\"98\" />\n",
       "  <line x1=\"10\" y1=\"41\" x2=\"80\" y2=\"111\" style=\"stroke-width:2\" />\n",
       "\n",
       "  <!-- Vertical lines -->\n",
       "  <line x1=\"10\" y1=\"0\" x2=\"10\" y2=\"41\" style=\"stroke-width:2\" />\n",
       "  <line x1=\"14\" y1=\"4\" x2=\"14\" y2=\"45\" />\n",
       "  <line x1=\"18\" y1=\"8\" x2=\"18\" y2=\"49\" />\n",
       "  <line x1=\"22\" y1=\"12\" x2=\"22\" y2=\"53\" />\n",
       "  <line x1=\"26\" y1=\"16\" x2=\"26\" y2=\"57\" />\n",
       "  <line x1=\"30\" y1=\"20\" x2=\"30\" y2=\"62\" />\n",
       "  <line x1=\"34\" y1=\"24\" x2=\"34\" y2=\"66\" />\n",
       "  <line x1=\"39\" y1=\"29\" x2=\"39\" y2=\"70\" />\n",
       "  <line x1=\"43\" y1=\"33\" x2=\"43\" y2=\"74\" />\n",
       "  <line x1=\"47\" y1=\"37\" x2=\"47\" y2=\"78\" />\n",
       "  <line x1=\"51\" y1=\"41\" x2=\"51\" y2=\"82\" />\n",
       "  <line x1=\"55\" y1=\"45\" x2=\"55\" y2=\"86\" />\n",
       "  <line x1=\"59\" y1=\"49\" x2=\"59\" y2=\"91\" />\n",
       "  <line x1=\"63\" y1=\"53\" x2=\"63\" y2=\"95\" />\n",
       "  <line x1=\"68\" y1=\"58\" x2=\"68\" y2=\"99\" />\n",
       "  <line x1=\"72\" y1=\"62\" x2=\"72\" y2=\"103\" />\n",
       "  <line x1=\"76\" y1=\"66\" x2=\"76\" y2=\"107\" />\n",
       "  <line x1=\"80\" y1=\"70\" x2=\"80\" y2=\"111\" style=\"stroke-width:2\" />\n",
       "\n",
       "  <!-- Colored Rectangle -->\n",
       "  <polygon points=\"10.0,0.0 80.58823529411765,70.58823529411765 80.58823529411765,111.87015820960542 10.0,41.28192291548776\" style=\"fill:#ECB172A0;stroke-width:0\"/>\n",
       "\n",
       "  <!-- Horizontal lines -->\n",
       "  <line x1=\"10\" y1=\"0\" x2=\"48\" y2=\"0\" style=\"stroke-width:2\" />\n",
       "  <line x1=\"14\" y1=\"4\" x2=\"53\" y2=\"4\" />\n",
       "  <line x1=\"18\" y1=\"8\" x2=\"57\" y2=\"8\" />\n",
       "  <line x1=\"22\" y1=\"12\" x2=\"61\" y2=\"12\" />\n",
       "  <line x1=\"26\" y1=\"16\" x2=\"65\" y2=\"16\" />\n",
       "  <line x1=\"30\" y1=\"20\" x2=\"69\" y2=\"20\" />\n",
       "  <line x1=\"34\" y1=\"24\" x2=\"73\" y2=\"24\" />\n",
       "  <line x1=\"39\" y1=\"29\" x2=\"78\" y2=\"29\" />\n",
       "  <line x1=\"43\" y1=\"33\" x2=\"82\" y2=\"33\" />\n",
       "  <line x1=\"47\" y1=\"37\" x2=\"86\" y2=\"37\" />\n",
       "  <line x1=\"51\" y1=\"41\" x2=\"90\" y2=\"41\" />\n",
       "  <line x1=\"55\" y1=\"45\" x2=\"94\" y2=\"45\" />\n",
       "  <line x1=\"59\" y1=\"49\" x2=\"98\" y2=\"49\" />\n",
       "  <line x1=\"63\" y1=\"53\" x2=\"102\" y2=\"53\" />\n",
       "  <line x1=\"68\" y1=\"58\" x2=\"107\" y2=\"58\" />\n",
       "  <line x1=\"72\" y1=\"62\" x2=\"111\" y2=\"62\" />\n",
       "  <line x1=\"76\" y1=\"66\" x2=\"115\" y2=\"66\" />\n",
       "  <line x1=\"80\" y1=\"70\" x2=\"119\" y2=\"70\" style=\"stroke-width:2\" />\n",
       "\n",
       "  <!-- Vertical lines -->\n",
       "  <line x1=\"10\" y1=\"0\" x2=\"80\" y2=\"70\" style=\"stroke-width:2\" />\n",
       "  <line x1=\"29\" y1=\"0\" x2=\"100\" y2=\"70\" />\n",
       "  <line x1=\"48\" y1=\"0\" x2=\"119\" y2=\"70\" style=\"stroke-width:2\" />\n",
       "\n",
       "  <!-- Colored Rectangle -->\n",
       "  <polygon points=\"10.0,0.0 48.991544671395225,0.0 119.57977996551287,70.58823529411765 80.58823529411765,70.58823529411765\" style=\"fill:#ECB172A0;stroke-width:0\"/>\n",
       "\n",
       "  <!-- Horizontal lines -->\n",
       "  <line x1=\"80\" y1=\"70\" x2=\"119\" y2=\"70\" style=\"stroke-width:2\" />\n",
       "  <line x1=\"80\" y1=\"84\" x2=\"119\" y2=\"84\" />\n",
       "  <line x1=\"80\" y1=\"98\" x2=\"119\" y2=\"98\" />\n",
       "  <line x1=\"80\" y1=\"111\" x2=\"119\" y2=\"111\" style=\"stroke-width:2\" />\n",
       "\n",
       "  <!-- Vertical lines -->\n",
       "  <line x1=\"80\" y1=\"70\" x2=\"80\" y2=\"111\" style=\"stroke-width:2\" />\n",
       "  <line x1=\"100\" y1=\"70\" x2=\"100\" y2=\"111\" />\n",
       "  <line x1=\"119\" y1=\"70\" x2=\"119\" y2=\"111\" style=\"stroke-width:2\" />\n",
       "\n",
       "  <!-- Colored Rectangle -->\n",
       "  <polygon points=\"80.58823529411765,70.58823529411765 119.57977996551287,70.58823529411765 119.57977996551287,111.87015820960542 80.58823529411765,111.87015820960542\" style=\"fill:#ECB172A0;stroke-width:0\"/>\n",
       "\n",
       "  <!-- Text -->\n",
       "  <text x=\"100.084008\" y=\"131.870158\" font-size=\"1.0rem\" font-weight=\"100\" text-anchor=\"middle\" >232</text>\n",
       "  <text x=\"139.579780\" y=\"91.229197\" font-size=\"1.0rem\" font-weight=\"100\" text-anchor=\"middle\" transform=\"rotate(-90,139.579780,91.229197)\">366</text>\n",
       "  <text x=\"35.294118\" y=\"96.576041\" font-size=\"1.0rem\" font-weight=\"100\" text-anchor=\"middle\" transform=\"rotate(45,35.294118,96.576041)\">2159</text>\n",
       "</svg>\n",
       "        </td>\n",
       "    </tr>\n",
       "</table>"
      ],
      "text/plain": [
       "dask.array<from-zarr, shape=(2159, 366, 232), dtype=int32, chunksize=(127, 122, 116), chunktype=numpy.ndarray>"
      ]
     },
     "execution_count": 35,
     "metadata": {},
     "output_type": "execute_result"
    }
   ],
   "source": [
    "da_blobs"
   ]
  },
  {
   "cell_type": "code",
   "execution_count": 36,
   "id": "ff4f5039-0c79-4ddc-96af-3dcb7014afbd",
   "metadata": {},
   "outputs": [
    {
     "data": {
      "text/html": [
       "<table>\n",
       "    <tr>\n",
       "        <td>\n",
       "            <table style=\"border-collapse: collapse;\">\n",
       "                <thead>\n",
       "                    <tr>\n",
       "                        <td> </td>\n",
       "                        <th> Array </th>\n",
       "                        <th> Chunk </th>\n",
       "                    </tr>\n",
       "                </thead>\n",
       "                <tbody>\n",
       "                    \n",
       "                    <tr>\n",
       "                        <th> Bytes </th>\n",
       "                        <td> 699.33 MiB </td>\n",
       "                        <td> 165.84 kiB </td>\n",
       "                    </tr>\n",
       "                    \n",
       "                    <tr>\n",
       "                        <th> Shape </th>\n",
       "                        <td> (2, 2159, 366, 232) </td>\n",
       "                        <td> (1, 1, 366, 232) </td>\n",
       "                    </tr>\n",
       "                    <tr>\n",
       "                        <th> Dask graph </th>\n",
       "                        <td colspan=\"2\"> 4318 chunks in 2 graph layers </td>\n",
       "                    </tr>\n",
       "                    <tr>\n",
       "                        <th> Data type </th>\n",
       "                        <td colspan=\"2\"> uint16 numpy.ndarray </td>\n",
       "                    </tr>\n",
       "                </tbody>\n",
       "            </table>\n",
       "        </td>\n",
       "        <td>\n",
       "        <svg width=\"349\" height=\"161\" style=\"stroke:rgb(0,0,0);stroke-width:1\" >\n",
       "\n",
       "  <!-- Horizontal lines -->\n",
       "  <line x1=\"0\" y1=\"0\" x2=\"25\" y2=\"0\" style=\"stroke-width:2\" />\n",
       "  <line x1=\"0\" y1=\"25\" x2=\"25\" y2=\"25\" style=\"stroke-width:2\" />\n",
       "\n",
       "  <!-- Vertical lines -->\n",
       "  <line x1=\"0\" y1=\"0\" x2=\"0\" y2=\"25\" style=\"stroke-width:2\" />\n",
       "  <line x1=\"12\" y1=\"0\" x2=\"12\" y2=\"25\" />\n",
       "  <line x1=\"25\" y1=\"0\" x2=\"25\" y2=\"25\" style=\"stroke-width:2\" />\n",
       "\n",
       "  <!-- Colored Rectangle -->\n",
       "  <polygon points=\"0.0,0.0 25.412616514582485,0.0 25.412616514582485,25.412616514582485 0.0,25.412616514582485\" style=\"fill:#ECB172A0;stroke-width:0\"/>\n",
       "\n",
       "  <!-- Text -->\n",
       "  <text x=\"12.706308\" y=\"45.412617\" font-size=\"1.0rem\" font-weight=\"100\" text-anchor=\"middle\" >2</text>\n",
       "  <text x=\"45.412617\" y=\"12.706308\" font-size=\"1.0rem\" font-weight=\"100\" text-anchor=\"middle\" transform=\"rotate(0,45.412617,12.706308)\">1</text>\n",
       "\n",
       "\n",
       "  <!-- Horizontal lines -->\n",
       "  <line x1=\"95\" y1=\"0\" x2=\"165\" y2=\"70\" style=\"stroke-width:2\" />\n",
       "  <line x1=\"95\" y1=\"41\" x2=\"165\" y2=\"111\" style=\"stroke-width:2\" />\n",
       "\n",
       "  <!-- Vertical lines -->\n",
       "  <line x1=\"95\" y1=\"0\" x2=\"95\" y2=\"41\" style=\"stroke-width:2\" />\n",
       "  <line x1=\"97\" y1=\"2\" x2=\"97\" y2=\"43\" />\n",
       "  <line x1=\"99\" y1=\"4\" x2=\"99\" y2=\"45\" />\n",
       "  <line x1=\"101\" y1=\"6\" x2=\"101\" y2=\"47\" />\n",
       "  <line x1=\"103\" y1=\"8\" x2=\"103\" y2=\"50\" />\n",
       "  <line x1=\"106\" y1=\"11\" x2=\"106\" y2=\"52\" />\n",
       "  <line x1=\"108\" y1=\"13\" x2=\"108\" y2=\"54\" />\n",
       "  <line x1=\"110\" y1=\"15\" x2=\"110\" y2=\"56\" />\n",
       "  <line x1=\"112\" y1=\"17\" x2=\"112\" y2=\"58\" />\n",
       "  <line x1=\"114\" y1=\"19\" x2=\"114\" y2=\"61\" />\n",
       "  <line x1=\"117\" y1=\"22\" x2=\"117\" y2=\"63\" />\n",
       "  <line x1=\"119\" y1=\"24\" x2=\"119\" y2=\"65\" />\n",
       "  <line x1=\"121\" y1=\"26\" x2=\"121\" y2=\"67\" />\n",
       "  <line x1=\"123\" y1=\"28\" x2=\"123\" y2=\"69\" />\n",
       "  <line x1=\"125\" y1=\"30\" x2=\"125\" y2=\"72\" />\n",
       "  <line x1=\"128\" y1=\"33\" x2=\"128\" y2=\"74\" />\n",
       "  <line x1=\"130\" y1=\"35\" x2=\"130\" y2=\"76\" />\n",
       "  <line x1=\"132\" y1=\"37\" x2=\"132\" y2=\"78\" />\n",
       "  <line x1=\"134\" y1=\"39\" x2=\"134\" y2=\"80\" />\n",
       "  <line x1=\"136\" y1=\"41\" x2=\"136\" y2=\"83\" />\n",
       "  <line x1=\"139\" y1=\"44\" x2=\"139\" y2=\"85\" />\n",
       "  <line x1=\"141\" y1=\"46\" x2=\"141\" y2=\"87\" />\n",
       "  <line x1=\"143\" y1=\"48\" x2=\"143\" y2=\"89\" />\n",
       "  <line x1=\"145\" y1=\"50\" x2=\"145\" y2=\"91\" />\n",
       "  <line x1=\"147\" y1=\"52\" x2=\"147\" y2=\"94\" />\n",
       "  <line x1=\"150\" y1=\"55\" x2=\"150\" y2=\"96\" />\n",
       "  <line x1=\"152\" y1=\"57\" x2=\"152\" y2=\"98\" />\n",
       "  <line x1=\"154\" y1=\"59\" x2=\"154\" y2=\"100\" />\n",
       "  <line x1=\"156\" y1=\"61\" x2=\"156\" y2=\"103\" />\n",
       "  <line x1=\"158\" y1=\"63\" x2=\"158\" y2=\"105\" />\n",
       "  <line x1=\"161\" y1=\"66\" x2=\"161\" y2=\"107\" />\n",
       "  <line x1=\"163\" y1=\"68\" x2=\"163\" y2=\"109\" />\n",
       "  <line x1=\"165\" y1=\"70\" x2=\"165\" y2=\"111\" style=\"stroke-width:2\" />\n",
       "\n",
       "  <!-- Colored Rectangle -->\n",
       "  <polygon points=\"95.0,0.0 165.58823529411765,70.58823529411765 165.58823529411765,111.87015820960542 95.0,41.28192291548776\" style=\"fill:#8B4903A0;stroke-width:0\"/>\n",
       "\n",
       "  <!-- Horizontal lines -->\n",
       "  <line x1=\"95\" y1=\"0\" x2=\"133\" y2=\"0\" style=\"stroke-width:2\" />\n",
       "  <line x1=\"97\" y1=\"2\" x2=\"136\" y2=\"2\" />\n",
       "  <line x1=\"99\" y1=\"4\" x2=\"138\" y2=\"4\" />\n",
       "  <line x1=\"101\" y1=\"6\" x2=\"140\" y2=\"6\" />\n",
       "  <line x1=\"103\" y1=\"8\" x2=\"142\" y2=\"8\" />\n",
       "  <line x1=\"106\" y1=\"11\" x2=\"145\" y2=\"11\" />\n",
       "  <line x1=\"108\" y1=\"13\" x2=\"147\" y2=\"13\" />\n",
       "  <line x1=\"110\" y1=\"15\" x2=\"149\" y2=\"15\" />\n",
       "  <line x1=\"112\" y1=\"17\" x2=\"151\" y2=\"17\" />\n",
       "  <line x1=\"114\" y1=\"19\" x2=\"153\" y2=\"19\" />\n",
       "  <line x1=\"117\" y1=\"22\" x2=\"156\" y2=\"22\" />\n",
       "  <line x1=\"119\" y1=\"24\" x2=\"158\" y2=\"24\" />\n",
       "  <line x1=\"121\" y1=\"26\" x2=\"160\" y2=\"26\" />\n",
       "  <line x1=\"123\" y1=\"28\" x2=\"162\" y2=\"28\" />\n",
       "  <line x1=\"125\" y1=\"30\" x2=\"164\" y2=\"30\" />\n",
       "  <line x1=\"128\" y1=\"33\" x2=\"167\" y2=\"33\" />\n",
       "  <line x1=\"130\" y1=\"35\" x2=\"169\" y2=\"35\" />\n",
       "  <line x1=\"132\" y1=\"37\" x2=\"171\" y2=\"37\" />\n",
       "  <line x1=\"134\" y1=\"39\" x2=\"173\" y2=\"39\" />\n",
       "  <line x1=\"136\" y1=\"41\" x2=\"175\" y2=\"41\" />\n",
       "  <line x1=\"139\" y1=\"44\" x2=\"178\" y2=\"44\" />\n",
       "  <line x1=\"141\" y1=\"46\" x2=\"180\" y2=\"46\" />\n",
       "  <line x1=\"143\" y1=\"48\" x2=\"182\" y2=\"48\" />\n",
       "  <line x1=\"145\" y1=\"50\" x2=\"184\" y2=\"50\" />\n",
       "  <line x1=\"147\" y1=\"52\" x2=\"186\" y2=\"52\" />\n",
       "  <line x1=\"150\" y1=\"55\" x2=\"189\" y2=\"55\" />\n",
       "  <line x1=\"152\" y1=\"57\" x2=\"191\" y2=\"57\" />\n",
       "  <line x1=\"154\" y1=\"59\" x2=\"193\" y2=\"59\" />\n",
       "  <line x1=\"156\" y1=\"61\" x2=\"195\" y2=\"61\" />\n",
       "  <line x1=\"158\" y1=\"63\" x2=\"197\" y2=\"63\" />\n",
       "  <line x1=\"161\" y1=\"66\" x2=\"200\" y2=\"66\" />\n",
       "  <line x1=\"163\" y1=\"68\" x2=\"202\" y2=\"68\" />\n",
       "  <line x1=\"165\" y1=\"70\" x2=\"204\" y2=\"70\" style=\"stroke-width:2\" />\n",
       "\n",
       "  <!-- Vertical lines -->\n",
       "  <line x1=\"95\" y1=\"0\" x2=\"165\" y2=\"70\" style=\"stroke-width:2\" />\n",
       "  <line x1=\"133\" y1=\"0\" x2=\"204\" y2=\"70\" style=\"stroke-width:2\" />\n",
       "\n",
       "  <!-- Colored Rectangle -->\n",
       "  <polygon points=\"95.0,0.0 133.99154467139522,0.0 204.57977996551287,70.58823529411765 165.58823529411765,70.58823529411765\" style=\"fill:#8B4903A0;stroke-width:0\"/>\n",
       "\n",
       "  <!-- Horizontal lines -->\n",
       "  <line x1=\"165\" y1=\"70\" x2=\"204\" y2=\"70\" style=\"stroke-width:2\" />\n",
       "  <line x1=\"165\" y1=\"111\" x2=\"204\" y2=\"111\" style=\"stroke-width:2\" />\n",
       "\n",
       "  <!-- Vertical lines -->\n",
       "  <line x1=\"165\" y1=\"70\" x2=\"165\" y2=\"111\" style=\"stroke-width:2\" />\n",
       "  <line x1=\"204\" y1=\"70\" x2=\"204\" y2=\"111\" style=\"stroke-width:2\" />\n",
       "\n",
       "  <!-- Colored Rectangle -->\n",
       "  <polygon points=\"165.58823529411765,70.58823529411765 204.57977996551287,70.58823529411765 204.57977996551287,111.87015820960542 165.58823529411765,111.87015820960542\" style=\"fill:#ECB172A0;stroke-width:0\"/>\n",
       "\n",
       "  <!-- Text -->\n",
       "  <text x=\"185.084008\" y=\"131.870158\" font-size=\"1.0rem\" font-weight=\"100\" text-anchor=\"middle\" >232</text>\n",
       "  <text x=\"224.579780\" y=\"91.229197\" font-size=\"1.0rem\" font-weight=\"100\" text-anchor=\"middle\" transform=\"rotate(-90,224.579780,91.229197)\">366</text>\n",
       "  <text x=\"120.294118\" y=\"96.576041\" font-size=\"1.0rem\" font-weight=\"100\" text-anchor=\"middle\" transform=\"rotate(45,120.294118,96.576041)\">2159</text>\n",
       "</svg>\n",
       "        </td>\n",
       "    </tr>\n",
       "</table>"
      ],
      "text/plain": [
       "dask.array<from-zarr, shape=(2, 2159, 366, 232), dtype=uint16, chunksize=(1, 1, 366, 232), chunktype=numpy.ndarray>"
      ]
     },
     "execution_count": 36,
     "metadata": {},
     "output_type": "execute_result"
    }
   ],
   "source": [
    "da_img"
   ]
  },
  {
   "cell_type": "code",
   "execution_count": 37,
   "id": "cfbcda24-bab2-48bc-b13a-b29e881b3be6",
   "metadata": {},
   "outputs": [],
   "source": [
    "import matplotlib.pyplot as plt"
   ]
  },
  {
   "cell_type": "code",
   "execution_count": 38,
   "id": "af774669-c4df-4db3-bfc0-2424b8c293bc",
   "metadata": {},
   "outputs": [
    {
     "data": {
      "text/plain": [
       "<matplotlib.image.AxesImage at 0x7f6b684dc090>"
      ]
     },
     "execution_count": 38,
     "metadata": {},
     "output_type": "execute_result"
    },
    {
     "data": {
      "image/png": "[encoded data removed]",
      "text/plain": [
       "<Figure size 640x480 with 1 Axes>"
      ]
     },
     "metadata": {},
     "output_type": "display_data"
    }
   ],
   "source": [
    "plt.imshow(da_img[1,1000,:,:],vmax=500)"
   ]
  },
  {
   "cell_type": "code",
   "execution_count": 39,
   "id": "958c80ba-02d4-4110-8442-358566a80803",
   "metadata": {},
   "outputs": [
    {
     "data": {
      "text/plain": [
       "<matplotlib.colorbar.Colorbar at 0x7f6b58359b10>"
      ]
     },
     "execution_count": 39,
     "metadata": {},
     "output_type": "execute_result"
    },
    {
     "data": {
      "image/png": "[encoded data removed]",
      "text/plain": [
       "<Figure size 640x480 with 2 Axes>"
      ]
     },
     "metadata": {},
     "output_type": "display_data"
    }
   ],
   "source": [
    "plt.imshow(da_blobs[1000,:,:])\n",
    "plt.colorbar()"
   ]
  },
  {
   "cell_type": "code",
   "execution_count": 40,
   "id": "956e2e72-c6ec-44e6-a694-a51d5bb1ad2d",
   "metadata": {},
   "outputs": [
    {
     "data": {
      "text/plain": [
       "102"
      ]
     },
     "execution_count": 40,
     "metadata": {},
     "output_type": "execute_result"
    }
   ],
   "source": [
    "da_blobs.max().compute()"
   ]
  },
  {
   "cell_type": "code",
   "execution_count": 43,
   "id": "82c9fd9f-e6f8-41c0-bad3-905a16e7555e",
   "metadata": {},
   "outputs": [],
   "source": [
    "import nibabel as nib\n",
    "import numpy as np\n",
    "\n",
    "nib.Nifti1Image(da_img[1,800:1100,:,:].compute(),affine=np.eye(4)).to_filename('test_slice_BetaAmyloid.nii')\n",
    "nib.Nifti1Image(da_blobs[800:1100,:,:].compute(),affine=np.eye(4)).to_filename('test_slice_BetaAmyloid_blobs.nii')\n",
    "\n"
   ]
  },
  {
   "cell_type": "code",
   "execution_count": null,
   "id": "3b9402c4-fb40-4604-b096-ed6d772dbfc4",
   "metadata": {},
   "outputs": [],
   "source": []
  },
  {
   "cell_type": "code",
   "execution_count": 44,
   "id": "6e0b07cc-1005-4d63-bcb8-e4a55f81358f",
   "metadata": {},
   "outputs": [
    {
     "data": {
      "text/html": [
       "<table>\n",
       "    <tr>\n",
       "        <td>\n",
       "            <table style=\"border-collapse: collapse;\">\n",
       "                <thead>\n",
       "                    <tr>\n",
       "                        <td> </td>\n",
       "                        <th> Array </th>\n",
       "                        <th> Chunk </th>\n",
       "                    </tr>\n",
       "                </thead>\n",
       "                <tbody>\n",
       "                    \n",
       "                    <tr>\n",
       "                        <th> Bytes </th>\n",
       "                        <td> 699.33 MiB </td>\n",
       "                        <td> 6.86 MiB </td>\n",
       "                    </tr>\n",
       "                    \n",
       "                    <tr>\n",
       "                        <th> Shape </th>\n",
       "                        <td> (2159, 366, 232) </td>\n",
       "                        <td> (127, 122, 116) </td>\n",
       "                    </tr>\n",
       "                    <tr>\n",
       "                        <th> Dask graph </th>\n",
       "                        <td colspan=\"2\"> 102 chunks in 2 graph layers </td>\n",
       "                    </tr>\n",
       "                    <tr>\n",
       "                        <th> Data type </th>\n",
       "                        <td colspan=\"2\"> int32 numpy.ndarray </td>\n",
       "                    </tr>\n",
       "                </tbody>\n",
       "            </table>\n",
       "        </td>\n",
       "        <td>\n",
       "        <svg width=\"169\" height=\"161\" style=\"stroke:rgb(0,0,0);stroke-width:1\" >\n",
       "\n",
       "  <!-- Horizontal lines -->\n",
       "  <line x1=\"10\" y1=\"0\" x2=\"80\" y2=\"70\" style=\"stroke-width:2\" />\n",
       "  <line x1=\"10\" y1=\"13\" x2=\"80\" y2=\"84\" />\n",
       "  <line x1=\"10\" y1=\"27\" x2=\"80\" y2=\"98\" />\n",
       "  <line x1=\"10\" y1=\"41\" x2=\"80\" y2=\"111\" style=\"stroke-width:2\" />\n",
       "\n",
       "  <!-- Vertical lines -->\n",
       "  <line x1=\"10\" y1=\"0\" x2=\"10\" y2=\"41\" style=\"stroke-width:2\" />\n",
       "  <line x1=\"14\" y1=\"4\" x2=\"14\" y2=\"45\" />\n",
       "  <line x1=\"18\" y1=\"8\" x2=\"18\" y2=\"49\" />\n",
       "  <line x1=\"22\" y1=\"12\" x2=\"22\" y2=\"53\" />\n",
       "  <line x1=\"26\" y1=\"16\" x2=\"26\" y2=\"57\" />\n",
       "  <line x1=\"30\" y1=\"20\" x2=\"30\" y2=\"62\" />\n",
       "  <line x1=\"34\" y1=\"24\" x2=\"34\" y2=\"66\" />\n",
       "  <line x1=\"39\" y1=\"29\" x2=\"39\" y2=\"70\" />\n",
       "  <line x1=\"43\" y1=\"33\" x2=\"43\" y2=\"74\" />\n",
       "  <line x1=\"47\" y1=\"37\" x2=\"47\" y2=\"78\" />\n",
       "  <line x1=\"51\" y1=\"41\" x2=\"51\" y2=\"82\" />\n",
       "  <line x1=\"55\" y1=\"45\" x2=\"55\" y2=\"86\" />\n",
       "  <line x1=\"59\" y1=\"49\" x2=\"59\" y2=\"91\" />\n",
       "  <line x1=\"63\" y1=\"53\" x2=\"63\" y2=\"95\" />\n",
       "  <line x1=\"68\" y1=\"58\" x2=\"68\" y2=\"99\" />\n",
       "  <line x1=\"72\" y1=\"62\" x2=\"72\" y2=\"103\" />\n",
       "  <line x1=\"76\" y1=\"66\" x2=\"76\" y2=\"107\" />\n",
       "  <line x1=\"80\" y1=\"70\" x2=\"80\" y2=\"111\" style=\"stroke-width:2\" />\n",
       "\n",
       "  <!-- Colored Rectangle -->\n",
       "  <polygon points=\"10.0,0.0 80.58823529411765,70.58823529411765 80.58823529411765,111.87015820960542 10.0,41.28192291548776\" style=\"fill:#ECB172A0;stroke-width:0\"/>\n",
       "\n",
       "  <!-- Horizontal lines -->\n",
       "  <line x1=\"10\" y1=\"0\" x2=\"48\" y2=\"0\" style=\"stroke-width:2\" />\n",
       "  <line x1=\"14\" y1=\"4\" x2=\"53\" y2=\"4\" />\n",
       "  <line x1=\"18\" y1=\"8\" x2=\"57\" y2=\"8\" />\n",
       "  <line x1=\"22\" y1=\"12\" x2=\"61\" y2=\"12\" />\n",
       "  <line x1=\"26\" y1=\"16\" x2=\"65\" y2=\"16\" />\n",
       "  <line x1=\"30\" y1=\"20\" x2=\"69\" y2=\"20\" />\n",
       "  <line x1=\"34\" y1=\"24\" x2=\"73\" y2=\"24\" />\n",
       "  <line x1=\"39\" y1=\"29\" x2=\"78\" y2=\"29\" />\n",
       "  <line x1=\"43\" y1=\"33\" x2=\"82\" y2=\"33\" />\n",
       "  <line x1=\"47\" y1=\"37\" x2=\"86\" y2=\"37\" />\n",
       "  <line x1=\"51\" y1=\"41\" x2=\"90\" y2=\"41\" />\n",
       "  <line x1=\"55\" y1=\"45\" x2=\"94\" y2=\"45\" />\n",
       "  <line x1=\"59\" y1=\"49\" x2=\"98\" y2=\"49\" />\n",
       "  <line x1=\"63\" y1=\"53\" x2=\"102\" y2=\"53\" />\n",
       "  <line x1=\"68\" y1=\"58\" x2=\"107\" y2=\"58\" />\n",
       "  <line x1=\"72\" y1=\"62\" x2=\"111\" y2=\"62\" />\n",
       "  <line x1=\"76\" y1=\"66\" x2=\"115\" y2=\"66\" />\n",
       "  <line x1=\"80\" y1=\"70\" x2=\"119\" y2=\"70\" style=\"stroke-width:2\" />\n",
       "\n",
       "  <!-- Vertical lines -->\n",
       "  <line x1=\"10\" y1=\"0\" x2=\"80\" y2=\"70\" style=\"stroke-width:2\" />\n",
       "  <line x1=\"29\" y1=\"0\" x2=\"100\" y2=\"70\" />\n",
       "  <line x1=\"48\" y1=\"0\" x2=\"119\" y2=\"70\" style=\"stroke-width:2\" />\n",
       "\n",
       "  <!-- Colored Rectangle -->\n",
       "  <polygon points=\"10.0,0.0 48.991544671395225,0.0 119.57977996551287,70.58823529411765 80.58823529411765,70.58823529411765\" style=\"fill:#ECB172A0;stroke-width:0\"/>\n",
       "\n",
       "  <!-- Horizontal lines -->\n",
       "  <line x1=\"80\" y1=\"70\" x2=\"119\" y2=\"70\" style=\"stroke-width:2\" />\n",
       "  <line x1=\"80\" y1=\"84\" x2=\"119\" y2=\"84\" />\n",
       "  <line x1=\"80\" y1=\"98\" x2=\"119\" y2=\"98\" />\n",
       "  <line x1=\"80\" y1=\"111\" x2=\"119\" y2=\"111\" style=\"stroke-width:2\" />\n",
       "\n",
       "  <!-- Vertical lines -->\n",
       "  <line x1=\"80\" y1=\"70\" x2=\"80\" y2=\"111\" style=\"stroke-width:2\" />\n",
       "  <line x1=\"100\" y1=\"70\" x2=\"100\" y2=\"111\" />\n",
       "  <line x1=\"119\" y1=\"70\" x2=\"119\" y2=\"111\" style=\"stroke-width:2\" />\n",
       "\n",
       "  <!-- Colored Rectangle -->\n",
       "  <polygon points=\"80.58823529411765,70.58823529411765 119.57977996551287,70.58823529411765 119.57977996551287,111.87015820960542 80.58823529411765,111.87015820960542\" style=\"fill:#ECB172A0;stroke-width:0\"/>\n",
       "\n",
       "  <!-- Text -->\n",
       "  <text x=\"100.084008\" y=\"131.870158\" font-size=\"1.0rem\" font-weight=\"100\" text-anchor=\"middle\" >232</text>\n",
       "  <text x=\"139.579780\" y=\"91.229197\" font-size=\"1.0rem\" font-weight=\"100\" text-anchor=\"middle\" transform=\"rotate(-90,139.579780,91.229197)\">366</text>\n",
       "  <text x=\"35.294118\" y=\"96.576041\" font-size=\"1.0rem\" font-weight=\"100\" text-anchor=\"middle\" transform=\"rotate(45,35.294118,96.576041)\">2159</text>\n",
       "</svg>\n",
       "        </td>\n",
       "    </tr>\n",
       "</table>"
      ],
      "text/plain": [
       "dask.array<from-zarr, shape=(2159, 366, 232), dtype=int32, chunksize=(127, 122, 116), chunktype=numpy.ndarray>"
      ]
     },
     "execution_count": 44,
     "metadata": {},
     "output_type": "execute_result"
    }
   ],
   "source": [
    "da_blobs"
   ]
  },
  {
   "cell_type": "code",
   "execution_count": 46,
   "id": "a9b22483-ec44-4bd9-bb6b-0e7b417849e2",
   "metadata": {},
   "outputs": [],
   "source": [
    "import sparse\n",
    "s = da_blobs.map_blocks(sparse.COO)"
   ]
  },
  {
   "cell_type": "code",
   "execution_count": 55,
   "id": "1b721b59-28f0-4d98-8c4e-d6236e5b94b4",
   "metadata": {},
   "outputs": [
    {
     "data": {
      "text/html": [
       "<table><tbody><tr><th style=\"text-align: left\">Format</th><td style=\"text-align: left\">coo</td></tr><tr><th style=\"text-align: left\">Data Type</th><td style=\"text-align: left\">int32</td></tr><tr><th style=\"text-align: left\">Shape</th><td style=\"text-align: left\">(2159, 366, 232)</td></tr><tr><th style=\"text-align: left\">nnz</th><td style=\"text-align: left\">1844</td></tr><tr><th style=\"text-align: left\">Density</th><td style=\"text-align: left\">1.0058638590104411e-05</td></tr><tr><th style=\"text-align: left\">Read-only</th><td style=\"text-align: left\">True</td></tr><tr><th style=\"text-align: left\">Size</th><td style=\"text-align: left\">50.4K</td></tr><tr><th style=\"text-align: left\">Storage ratio</th><td style=\"text-align: left\">0.00</td></tr></tbody></table>"
      ],
      "text/plain": [
       "<COO: shape=(2159, 366, 232), dtype=int32, nnz=1844, fill_value=0>"
      ]
     },
     "execution_count": 55,
     "metadata": {},
     "output_type": "execute_result"
    }
   ],
   "source": [
    "sparse_arr = s.compute()\n",
    "sparse_arr"
   ]
  },
  {
   "cell_type": "code",
   "execution_count": 52,
   "id": "34d9c5bf-3ffc-427f-95d3-79573bb85d51",
   "metadata": {},
   "outputs": [
    {
     "data": {
      "text/plain": [
       "sparse._coo.core.COO"
      ]
     },
     "execution_count": 52,
     "metadata": {},
     "output_type": "execute_result"
    }
   ],
   "source": []
  },
  {
   "cell_type": "code",
   "execution_count": 50,
   "id": "60b5bede-0f94-415d-8001-a54fcabfa9a0",
   "metadata": {},
   "outputs": [
    {
     "ename": "AttributeError",
     "evalue": "'COO' object has no attribute 'to_dense'",
     "output_type": "error",
     "traceback": [
      "\u001b[0;31m---------------------------------------------------------------------------\u001b[0m",
      "\u001b[0;31mAttributeError\u001b[0m                            Traceback (most recent call last)",
      "Cell \u001b[0;32mIn[50], line 1\u001b[0m\n\u001b[0;32m----> 1\u001b[0m dense_arr \u001b[38;5;241m=\u001b[39m \u001b[43msparse_arr\u001b[49m\u001b[38;5;241;43m.\u001b[39;49m\u001b[43mto_dense\u001b[49m()\n",
      "\u001b[0;31mAttributeError\u001b[0m: 'COO' object has no attribute 'to_dense'"
     ]
    }
   ],
   "source": [
    "dense_arr = sparse_arr.to_dense()"
   ]
  },
  {
   "cell_type": "code",
   "execution_count": 56,
   "id": "65b59a8b-9c3f-4aeb-87e3-e7d0448ca899",
   "metadata": {},
   "outputs": [
    {
     "data": {
      "text/plain": [
       "1844"
      ]
     },
     "execution_count": 56,
     "metadata": {},
     "output_type": "execute_result"
    }
   ],
   "source": [
    "np.sum(sparse_arr>0)"
   ]
  },
  {
   "cell_type": "code",
   "execution_count": 54,
   "id": "34222a3c-81ae-4981-8cfb-0a48d1710ca7",
   "metadata": {},
   "outputs": [
    {
     "data": {
      "text/plain": [
       "(2159, 366, 232)"
      ]
     },
     "execution_count": 54,
     "metadata": {},
     "output_type": "execute_result"
    }
   ],
   "source": [
    "np.shape(sparse_arr)"
   ]
  },
  {
   "cell_type": "code",
   "execution_count": 121,
   "id": "0c3537b2-4c3d-4089-9552-d65bd515e2e3",
   "metadata": {},
   "outputs": [
    {
     "data": {
      "text/html": [
       "<table><tbody><tr><th style=\"text-align: left\">Format</th><td style=\"text-align: left\">coo</td></tr><tr><th style=\"text-align: left\">Data Type</th><td style=\"text-align: left\">float32</td></tr><tr><th style=\"text-align: left\">Shape</th><td style=\"text-align: left\">(2159, 366, 232, 4)</td></tr><tr><th style=\"text-align: left\">nnz</th><td style=\"text-align: left\">7604</td></tr><tr><th style=\"text-align: left\">Density</th><td style=\"text-align: left\">1.0369561800319136e-05</td></tr><tr><th style=\"text-align: left\">Read-only</th><td style=\"text-align: left\">True</td></tr><tr><th style=\"text-align: left\">Size</th><td style=\"text-align: left\">267.3K</td></tr><tr><th style=\"text-align: left\">Storage ratio</th><td style=\"text-align: left\">0.00</td></tr></tbody></table>"
      ],
      "text/plain": [
       "<COO: shape=(2159, 366, 232, 4), dtype=float32, nnz=7604, fill_value=0.0>"
      ]
     },
     "execution_count": 121,
     "metadata": {},
     "output_type": "execute_result"
    }
   ],
   "source": [
    "s = sparse.load_npz('out/results/sub-o21/micr/sub-o21_sample-brain_acq-prestitched_stain-BetaAmyloid_level-5_sparseblobs.npz')\n",
    "s"
   ]
  },
  {
   "cell_type": "code",
   "execution_count": 124,
   "id": "d01e551d-0bc6-4988-8f2c-ec0fe58a1fe7",
   "metadata": {},
   "outputs": [
    {
     "data": {
      "text/plain": [
       "102.0"
      ]
     },
     "execution_count": 124,
     "metadata": {},
     "output_type": "execute_result"
    }
   ],
   "source": [
    "(s[:,:,:,0].data)"
   ]
  },
  {
   "cell_type": "code",
   "execution_count": null,
   "id": "f156344f-7420-480d-9f40-d0dd177eb152",
   "metadata": {},
   "outputs": [],
   "source": [
    "sparse_arr_loaded"
   ]
  },
  {
   "cell_type": "code",
   "execution_count": 102,
   "id": "b45c2bfd-8c74-4256-80ab-3d2f95647bcb",
   "metadata": {},
   "outputs": [],
   "source": [
    "\n",
    "x = np.random.random((100, 100, 100,1))\n",
    "x[x < 0.9] = 0  # fill most of the array with zeros\n",
    "\n",
    "\n",
    "s = sparse.COO(x)  # convert to sparse array"
   ]
  },
  {
   "cell_type": "code",
   "execution_count": 103,
   "id": "42bc59ba-8842-4fbf-b943-8043486c78ef",
   "metadata": {},
   "outputs": [],
   "source": [
    "\n",
    "x2 = np.random.random((100, 100, 100,1))\n",
    "x2[x < 0.9] = 0  # fill most of the array with zeros\n",
    "\n",
    "\n",
    "s2 = sparse.COO(x2)  # convert to sparse array"
   ]
  },
  {
   "cell_type": "code",
   "execution_count": 111,
   "id": "1a22e7aa-5451-44b3-99b3-4bde92f45c04",
   "metadata": {},
   "outputs": [
    {
     "data": {
      "text/plain": [
       "array([0.96931082, 0.91506679, 0.95762133, ..., 0.93800311, 0.97371419,\n",
       "       0.96831832])"
      ]
     },
     "execution_count": 111,
     "metadata": {},
     "output_type": "execute_result"
    }
   ],
   "source": [
    "s.data\n"
   ]
  },
  {
   "cell_type": "code",
   "execution_count": 110,
   "id": "70589253-9ed3-4e3c-b75c-f15dc5aa53ad",
   "metadata": {},
   "outputs": [
    {
     "data": {
      "text/plain": [
       "array([0.63367593, 0.13353512, 0.12586663, ..., 0.11144711, 0.83634647,\n",
       "       0.94830573])"
      ]
     },
     "execution_count": 110,
     "metadata": {},
     "output_type": "execute_result"
    }
   ],
   "source": [
    "s2.data\n"
   ]
  },
  {
   "cell_type": "code",
   "execution_count": 113,
   "id": "e44dfd5a-f0d4-4c31-8a8e-45f1d689d5c7",
   "metadata": {},
   "outputs": [
    {
     "ename": "ValueError",
     "evalue": "data must be a scalar or 1-dimensional.",
     "output_type": "error",
     "traceback": [
      "\u001b[0;31m---------------------------------------------------------------------------\u001b[0m",
      "\u001b[0;31mValueError\u001b[0m                                Traceback (most recent call last)",
      "Cell \u001b[0;32mIn[113], line 1\u001b[0m\n\u001b[0;32m----> 1\u001b[0m s_combined \u001b[38;5;241m=\u001b[39m \u001b[43msparse\u001b[49m\u001b[38;5;241;43m.\u001b[39;49m\u001b[43mCOO\u001b[49m\u001b[43m(\u001b[49m\u001b[43ms\u001b[49m\u001b[38;5;241;43m.\u001b[39;49m\u001b[43mcoords\u001b[49m\u001b[43m,\u001b[49m\u001b[43m(\u001b[49m\u001b[43ms\u001b[49m\u001b[38;5;241;43m.\u001b[39;49m\u001b[43mdata\u001b[49m\u001b[43m,\u001b[49m\u001b[43ms2\u001b[49m\u001b[38;5;241;43m.\u001b[39;49m\u001b[43mdata\u001b[49m\u001b[43m)\u001b[49m\u001b[43m,\u001b[49m\u001b[43mshape\u001b[49m\u001b[38;5;241;43m=\u001b[39;49m\u001b[43ms\u001b[49m\u001b[38;5;241;43m.\u001b[39;49m\u001b[43mshape\u001b[49m\u001b[43m)\u001b[49m\n",
      "File \u001b[0;32m/localscratch/pypoetry_venv/spimquant-2gBabT2Y-py3.11/lib/python3.11/site-packages/sparse/_coo/core.py:241\u001b[0m, in \u001b[0;36mCOO.__init__\u001b[0;34m(self, coords, data, shape, has_duplicates, sorted, prune, cache, fill_value, idx_dtype)\u001b[0m\n\u001b[1;32m    238\u001b[0m     \u001b[38;5;28mself\u001b[39m\u001b[38;5;241m.\u001b[39mdata \u001b[38;5;241m=\u001b[39m np\u001b[38;5;241m.\u001b[39mbroadcast_to(\u001b[38;5;28mself\u001b[39m\u001b[38;5;241m.\u001b[39mdata, \u001b[38;5;28mself\u001b[39m\u001b[38;5;241m.\u001b[39mcoords\u001b[38;5;241m.\u001b[39mshape[\u001b[38;5;241m1\u001b[39m])\n\u001b[1;32m    240\u001b[0m \u001b[38;5;28;01mif\u001b[39;00m \u001b[38;5;28mself\u001b[39m\u001b[38;5;241m.\u001b[39mdata\u001b[38;5;241m.\u001b[39mndim \u001b[38;5;241m!=\u001b[39m \u001b[38;5;241m1\u001b[39m:\n\u001b[0;32m--> 241\u001b[0m     \u001b[38;5;28;01mraise\u001b[39;00m \u001b[38;5;167;01mValueError\u001b[39;00m(\u001b[38;5;124m\"\u001b[39m\u001b[38;5;124mdata must be a scalar or 1-dimensional.\u001b[39m\u001b[38;5;124m\"\u001b[39m)\n\u001b[1;32m    243\u001b[0m \u001b[38;5;28;01mif\u001b[39;00m shape \u001b[38;5;129;01mis\u001b[39;00m \u001b[38;5;28;01mNone\u001b[39;00m:\n\u001b[1;32m    244\u001b[0m     warnings\u001b[38;5;241m.\u001b[39mwarn(\n\u001b[1;32m    245\u001b[0m         \u001b[38;5;124m\"\u001b[39m\u001b[38;5;124mshape should be provided. This will raise a ValueError in the future.\u001b[39m\u001b[38;5;124m\"\u001b[39m,\n\u001b[1;32m    246\u001b[0m         \u001b[38;5;167;01mDeprecationWarning\u001b[39;00m,\n\u001b[1;32m    247\u001b[0m         stacklevel\u001b[38;5;241m=\u001b[39m\u001b[38;5;241m1\u001b[39m,\n\u001b[1;32m    248\u001b[0m     )\n",
      "\u001b[0;31mValueError\u001b[0m: data must be a scalar or 1-dimensional."
     ]
    }
   ],
   "source": [
    "s_combined = sparse.COO(s.coords,(s.data,s2.data),shape=s.shape)"
   ]
  },
  {
   "cell_type": "code",
   "execution_count": 77,
   "id": "ae10ba96-8b2f-482b-b340-c95e9bc43e24",
   "metadata": {},
   "outputs": [],
   "source": [
    "sparse_arr = sparse.load_npz('out/results/sub-o21/micr/sub-o21_sample-brain_acq-prestitched_stain-BetaAmyloid_level-3_sparseblobs.npz')"
   ]
  },
  {
   "cell_type": "code",
   "execution_count": 78,
   "id": "65b438c6-5b38-4d15-8af2-ad6490632936",
   "metadata": {},
   "outputs": [
    {
     "data": {
      "text/html": [
       "<table><tbody><tr><th style=\"text-align: left\">Format</th><td style=\"text-align: left\">coo</td></tr><tr><th style=\"text-align: left\">Data Type</th><td style=\"text-align: left\">int32</td></tr><tr><th style=\"text-align: left\">Shape</th><td style=\"text-align: left\">(2159, 1465, 931)</td></tr><tr><th style=\"text-align: left\">nnz</th><td style=\"text-align: left\">40859</td></tr><tr><th style=\"text-align: left\">Density</th><td style=\"text-align: left\">1.3875472637001007e-05</td></tr><tr><th style=\"text-align: left\">Read-only</th><td style=\"text-align: left\">True</td></tr><tr><th style=\"text-align: left\">Size</th><td style=\"text-align: left\">1.1M</td></tr><tr><th style=\"text-align: left\">Storage ratio</th><td style=\"text-align: left\">0.00</td></tr></tbody></table>"
      ],
      "text/plain": [
       "<COO: shape=(2159, 1465, 931), dtype=int32, nnz=40859, fill_value=0>"
      ]
     },
     "execution_count": 78,
     "metadata": {},
     "output_type": "execute_result"
    }
   ],
   "source": [
    "sparse_arr"
   ]
  },
  {
   "cell_type": "code",
   "execution_count": 81,
   "id": "8afa557a-8cb2-4b0f-993e-209d69c3e9bb",
   "metadata": {},
   "outputs": [
    {
     "data": {
      "text/plain": [
       "(3, 40859)"
      ]
     },
     "execution_count": 81,
     "metadata": {},
     "output_type": "execute_result"
    }
   ],
   "source": [
    "sparse_arr.coords.shape"
   ]
  },
  {
   "cell_type": "code",
   "execution_count": 83,
   "id": "f3797d8f-f239-434f-989a-94f2fa1a607e",
   "metadata": {},
   "outputs": [
    {
     "data": {
      "text/plain": [
       "array([2157, 1324,  901])"
      ]
     },
     "execution_count": 83,
     "metadata": {},
     "output_type": "execute_result"
    }
   ],
   "source": [
    "sparse_arr.coords.max(axis=1)"
   ]
  },
  {
   "cell_type": "code",
   "execution_count": 98,
   "id": "78c1a292-5caf-4c0d-a53c-8a5b221cf2b8",
   "metadata": {},
   "outputs": [
    {
     "name": "stdout",
     "output_type": "stream",
     "text": [
      "scaling_zyx: [0.004  0.0144 0.0144]\n"
     ]
    }
   ],
   "source": [
    "import zarr\n",
    "\n",
    "in_zarr = spim_zarr\n",
    "zi = zarr.open(in_zarr)\n",
    "attrs=zi['/'].attrs.asdict()\n",
    "\n",
    "level=3\n",
    "\n",
    "#read coordinate transform from ome-zarr\n",
    "transforms = attrs['multiscales'][0]['datasets'][level]['coordinateTransformations']\n",
    "\n",
    "\n",
    "#adjust sigma based on physical size of voxels \n",
    "scaling_zyx=np.array(transforms[0]['scale'][1:])\n",
    "print(f'scaling_zyx: {scaling_zyx}') \n",
    "#mm per pixel\n",
    "\n",
    "#multiply \n",
    "scaled_coords = sparse_arr.coords * scaling_zyx.reshape(3,1)\n",
    "\n",
    "#save the coords to a numpy array\n",
    "np.save('test_scaled_coords.npz',scaled_coords)\n"
   ]
  },
  {
   "cell_type": "code",
   "execution_count": 92,
   "id": "143e0b0a-26db-49a6-844e-bb55ce5909d7",
   "metadata": {},
   "outputs": [
    {
     "data": {
      "text/plain": [
       "(3, 40859)"
      ]
     },
     "execution_count": 92,
     "metadata": {},
     "output_type": "execute_result"
    }
   ],
   "source": [
    "scaled_coords.shape"
   ]
  },
  {
   "cell_type": "code",
   "execution_count": 93,
   "id": "c85de361-d8d8-4eef-8d4f-824802e9fee3",
   "metadata": {},
   "outputs": [
    {
     "data": {
      "text/plain": [
       "array([8.0000e-03, 1.0440e+01, 8.0208e+00])"
      ]
     },
     "execution_count": 93,
     "metadata": {},
     "output_type": "execute_result"
    }
   ],
   "source": [
    "scaled_coords[:,0]"
   ]
  },
  {
   "cell_type": "code",
   "execution_count": 95,
   "id": "065402c8-d676-41ec-a5d8-1e76ca391088",
   "metadata": {},
   "outputs": [
    {
     "data": {
      "text/plain": [
       "array([  2, 725, 557])"
      ]
     },
     "execution_count": 95,
     "metadata": {},
     "output_type": "execute_result"
    }
   ],
   "source": [
    "sparse_arr.coords[:,0]"
   ]
  },
  {
   "cell_type": "code",
   "execution_count": 97,
   "id": "a81a2740-15f6-4677-ad56-c978834ce584",
   "metadata": {},
   "outputs": [
    {
     "data": {
      "text/plain": [
       "10.44"
      ]
     },
     "execution_count": 97,
     "metadata": {},
     "output_type": "execute_result"
    }
   ],
   "source": [
    "725*0.0144"
   ]
  },
  {
   "cell_type": "code",
   "execution_count": null,
   "id": "f3bb3d6f-12ee-4b84-89d2-6ef77025a798",
   "metadata": {},
   "outputs": [],
   "source": []
  }
 ],
 "metadata": {
  "kernelspec": {
   "display_name": "Python 3 (ipykernel)",
   "language": "python",
   "name": "python3"
  },
  "language_info": {
   "codemirror_mode": {
    "name": "ipython",
    "version": 3
   },
   "file_extension": ".py",
   "mimetype": "text/x-python",
   "name": "python",
   "nbconvert_exporter": "python",
   "pygments_lexer": "ipython3",
   "version": "3.11.8"
  }
 },
 "nbformat": 4,
 "nbformat_minor": 5
}
