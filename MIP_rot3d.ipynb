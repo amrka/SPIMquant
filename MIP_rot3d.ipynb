{
 "cells": [
  {
   "cell_type": "markdown",
   "id": "3c32a58c-15a8-4b5e-a67f-78f8d166b286",
   "metadata": {},
   "source": [
    "# MIP after rotating in 3D - full example"
   ]
  },
  {
   "cell_type": "code",
   "execution_count": 1,
   "id": "921382ad-1942-4918-abbf-5398def2c74a",
   "metadata": {},
   "outputs": [],
   "source": [
    "from dask_image.ndinterp import affine_transform\n",
    "import dask.array as da\n",
    "from dask.diagnostics import ProgressBar\n",
    "import zarr\n",
    "import skimage"
   ]
  },
  {
   "cell_type": "code",
   "execution_count": 2,
   "id": "ac105776-e9cc-4958-b6d2-a5f00939fdb4",
   "metadata": {},
   "outputs": [],
   "source": [
    "from scipy.spatial.transform import Rotation as R\n",
    "import numpy as np\n",
    "from scipy.linalg  import inv\n",
    "\n",
    "\n",
    "def get_rotation_on_center(shape, degrees, axis_name):\n",
    "        \n",
    "    r0 = np.eye(4) \n",
    "    r0[0,3] = -shape[0]/2\n",
    "    r0[1,3] = -shape[1]/2\n",
    "    r0[2,3] = -shape[2]/2\n",
    "    \n",
    "    r1 = np.eye(4)\n",
    "    r1[:3,:3]=R.from_euler(axis_name, degrees, degrees=True).as_matrix()\n",
    "\n",
    "    #to get rotation around center of image: move origin, rotate, move origin back \n",
    "    return inv(r0) @ r1 @ r0"
   ]
  },
  {
   "cell_type": "code",
   "execution_count": 3,
   "id": "9247e38a-0930-4e88-8aaf-db8b550f0f6b",
   "metadata": {},
   "outputs": [],
   "source": [
    "from pathlib import Path\n",
    "import zarr\n",
    "from tqdm import tqdm\n",
    "\n",
    "subject='mouse1'\n",
    "acq='4x'\n",
    "level=3\n",
    "mip_axis=0 \n",
    "rot_axis='y'\n",
    "channel=0\n",
    "angle_increment=5\n",
    "z_padding=0.4 #to avoid going out of fov with rotation\n",
    "\n",
    "in_zarr_pattern = '/cifs/prado/Kelly/data/lightsheet/bids/test_bids/sub-{subject}/micr/sub-{subject}_sample-brain_acq-{acq}_spim.ome.zarr.zip'\n",
    "in_zarr = in_zarr_pattern.format(subject=subject, acq=acq)"
   ]
  },
  {
   "cell_type": "code",
   "execution_count": 4,
   "id": "cfd515d4-fe7f-40da-8aed-3a3e606bcc1b",
   "metadata": {},
   "outputs": [
    {
     "data": {
      "text/plain": [
       "5"
      ]
     },
     "execution_count": 4,
     "metadata": {},
     "output_type": "execute_result"
    }
   ],
   "source": [
    "z_in = zarr.open(in_zarr)\n",
    "attrs = z_in['/'].attrs.asdict()\n",
    "\n",
    "#get voxel dimensions for the given level\n",
    "coord_transforms = attrs['multiscales'][0]['datasets'][level]['coordinateTransformations']\n",
    "coord_transforms\n",
    "zscale=coord_transforms[0]['scale'][-3] \n",
    "xyscale=coord_transforms[0]['scale'][-2]\n",
    "\n",
    "#zfactor is how much thicker (greater than 1) /thinner (less than 1) Z is than x and y dims\n",
    "# ie we need to rescale z dim by this factor to get isotropic volume \n",
    "zfactor = zscale/xyscale\n",
    "zfactor\n",
    "\n",
    "zstep = int(np.round(1/zfactor))\n",
    "zstep"
   ]
  },
  {
   "cell_type": "code",
   "execution_count": 5,
   "id": "91952fa2-a4b0-4bfb-8076-3a9a61c3af64",
   "metadata": {},
   "outputs": [],
   "source": [
    "darr_ds = da.from_zarr(in_zarr,component=f'/{level}')[channel][::zstep,:,:]\n",
    "darr_pad = da.zeros((int(darr_ds.shape[0]*z_padding),darr_ds.shape[1],darr_ds.shape[2]),dtype='uint16')\n",
    "darr_ds = da.concatenate([darr_pad,darr_ds,darr_pad],axis=0)\n",
    "                    \n",
    "out_dir=Path(f'sub-{subject}_acq-{acq}_channel-{channel}_level-{level}_rotate-{rot_axis}_axis-{mip_axis}_MIP')\n",
    "\n",
    "#make out dir\n",
    "out_dir.mkdir(parents=True, exist_ok=True)"
   ]
  },
  {
   "cell_type": "code",
   "execution_count": null,
   "id": "b91e6b5b-5bf4-4895-9458-7981e5ade45f",
   "metadata": {},
   "outputs": [
    {
     "name": "stderr",
     "output_type": "stream",
     "text": [
      "  8%|███████▊                                                                                      | 6/72 [09:46<1:49:06, 99.19s/it]"
     ]
    }
   ],
   "source": [
    "#generate mips while rotating to make animation\n",
    "\n",
    "for angle in tqdm(range(0,360,angle_increment)):\n",
    "    darr_mip=affine_transform(darr_ds,get_rotation_on_center(darr_ds.shape,angle,rot_axis)).max(axis=mip_axis)\n",
    "    out_file = out_dir / f'MIP_rotate-{angle:03d}.tif' \n",
    "    skimage.io.imsave(out_file,darr_mip)"
   ]
  },
  {
   "cell_type": "code",
   "execution_count": null,
   "id": "719b8e4e-0b77-4401-af60-33442a99620f",
   "metadata": {},
   "outputs": [],
   "source": []
  }
 ],
 "metadata": {
  "kernelspec": {
   "display_name": "Python 3 (ipykernel)",
   "language": "python",
   "name": "python3"
  },
  "language_info": {
   "codemirror_mode": {
    "name": "ipython",
    "version": 3
   },
   "file_extension": ".py",
   "mimetype": "text/x-python",
   "name": "python",
   "nbconvert_exporter": "python",
   "pygments_lexer": "ipython3",
   "version": "3.11.7"
  }
 },
 "nbformat": 4,
 "nbformat_minor": 5
}
