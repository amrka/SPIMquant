{
 "cells": [
  {
   "cell_type": "markdown",
   "id": "a2342d0b-f1e0-46b8-ad3b-28f65de8e843",
   "metadata": {},
   "source": [
    "# maximum intensity projection visualization at full-resolution using dask"
   ]
  },
  {
   "cell_type": "code",
   "execution_count": 10,
   "id": "752afb64-40a2-4b17-9c35-6cb57e2714ed",
   "metadata": {},
   "outputs": [],
   "source": [
    "import matplotlib.pyplot as plt\n",
    "from snakebids import generate_inputs\n",
    "import dask.array as da\n",
    "from dask.diagnostics import ProgressBar\n",
    "\n",
    "in_zarr = '/cifs/prado/Kelly/data/lightsheet/bids/test_bids/sub-mouse1/micr/sub-mouse1_sample-brain_acq-4x_spim.ome.zarr.zip'\n"
   ]
  },
  {
   "cell_type": "code",
   "execution_count": 11,
   "id": "8b57360c-8f4e-416b-81a3-f8ee94bab1bd",
   "metadata": {},
   "outputs": [
    {
     "data": {
      "text/plain": [
       "'/cifs/prado/Kelly/data/lightsheet/bids/test_bids/sub-mouse1/micr/sub-mouse1_sample-brain_acq-4x_spim.ome.zarr.zip'"
      ]
     },
     "execution_count": 11,
     "metadata": {},
     "output_type": "execute_result"
    }
   ],
   "source": [
    "in_zarr"
   ]
  },
  {
   "cell_type": "code",
   "execution_count": 12,
   "id": "9de82e9c-73d8-4dab-852a-95ed4fd0e856",
   "metadata": {},
   "outputs": [
    {
     "data": {
      "text/html": [
       "<table>\n",
       "    <tr>\n",
       "        <td>\n",
       "            <table style=\"border-collapse: collapse;\">\n",
       "                <thead>\n",
       "                    <tr>\n",
       "                        <td> </td>\n",
       "                        <th> Array </th>\n",
       "                        <th> Chunk </th>\n",
       "                    </tr>\n",
       "                </thead>\n",
       "                <tbody>\n",
       "                    \n",
       "                    <tr>\n",
       "                        <th> Bytes </th>\n",
       "                        <td> 133.50 GiB </td>\n",
       "                        <td> 2.00 MiB </td>\n",
       "                    </tr>\n",
       "                    \n",
       "                    <tr>\n",
       "                        <th> Shape </th>\n",
       "                        <td> (1621, 7232, 6114) </td>\n",
       "                        <td> (1, 1024, 1024) </td>\n",
       "                    </tr>\n",
       "                    <tr>\n",
       "                        <th> Dask graph </th>\n",
       "                        <td colspan=\"2\"> 77808 chunks in 3 graph layers </td>\n",
       "                    </tr>\n",
       "                    <tr>\n",
       "                        <th> Data type </th>\n",
       "                        <td colspan=\"2\"> uint16 numpy.ndarray </td>\n",
       "                    </tr>\n",
       "                </tbody>\n",
       "            </table>\n",
       "        </td>\n",
       "        <td>\n",
       "        <svg width=\"186\" height=\"194\" style=\"stroke:rgb(0,0,0);stroke-width:1\" >\n",
       "\n",
       "  <!-- Horizontal lines -->\n",
       "  <line x1=\"10\" y1=\"0\" x2=\"34\" y2=\"24\" style=\"stroke-width:2\" />\n",
       "  <line x1=\"10\" y1=\"16\" x2=\"34\" y2=\"41\" />\n",
       "  <line x1=\"10\" y1=\"33\" x2=\"34\" y2=\"58\" />\n",
       "  <line x1=\"10\" y1=\"50\" x2=\"34\" y2=\"75\" />\n",
       "  <line x1=\"10\" y1=\"67\" x2=\"34\" y2=\"92\" />\n",
       "  <line x1=\"10\" y1=\"84\" x2=\"34\" y2=\"109\" />\n",
       "  <line x1=\"10\" y1=\"101\" x2=\"34\" y2=\"126\" />\n",
       "  <line x1=\"10\" y1=\"118\" x2=\"34\" y2=\"143\" />\n",
       "  <line x1=\"10\" y1=\"120\" x2=\"34\" y2=\"144\" style=\"stroke-width:2\" />\n",
       "\n",
       "  <!-- Vertical lines -->\n",
       "  <line x1=\"10\" y1=\"0\" x2=\"10\" y2=\"120\" style=\"stroke-width:2\" />\n",
       "  <line x1=\"11\" y1=\"1\" x2=\"11\" y2=\"121\" />\n",
       "  <line x1=\"12\" y1=\"2\" x2=\"12\" y2=\"122\" />\n",
       "  <line x1=\"13\" y1=\"3\" x2=\"13\" y2=\"123\" />\n",
       "  <line x1=\"15\" y1=\"5\" x2=\"15\" y2=\"125\" />\n",
       "  <line x1=\"16\" y1=\"6\" x2=\"16\" y2=\"126\" />\n",
       "  <line x1=\"17\" y1=\"7\" x2=\"17\" y2=\"127\" />\n",
       "  <line x1=\"19\" y1=\"9\" x2=\"19\" y2=\"129\" />\n",
       "  <line x1=\"20\" y1=\"10\" x2=\"20\" y2=\"130\" />\n",
       "  <line x1=\"21\" y1=\"11\" x2=\"21\" y2=\"131\" />\n",
       "  <line x1=\"23\" y1=\"13\" x2=\"23\" y2=\"133\" />\n",
       "  <line x1=\"24\" y1=\"14\" x2=\"24\" y2=\"134\" />\n",
       "  <line x1=\"25\" y1=\"15\" x2=\"25\" y2=\"135\" />\n",
       "  <line x1=\"27\" y1=\"17\" x2=\"27\" y2=\"137\" />\n",
       "  <line x1=\"28\" y1=\"18\" x2=\"28\" y2=\"138\" />\n",
       "  <line x1=\"29\" y1=\"19\" x2=\"29\" y2=\"139\" />\n",
       "  <line x1=\"31\" y1=\"21\" x2=\"31\" y2=\"141\" />\n",
       "  <line x1=\"32\" y1=\"22\" x2=\"32\" y2=\"142\" />\n",
       "  <line x1=\"33\" y1=\"23\" x2=\"33\" y2=\"143\" />\n",
       "  <line x1=\"34\" y1=\"24\" x2=\"34\" y2=\"144\" style=\"stroke-width:2\" />\n",
       "\n",
       "  <!-- Colored Rectangle -->\n",
       "  <polygon points=\"10.0,0.0 34.98672441193236,24.986724411932354 34.98672441193236,144.98672441193236 10.0,120.0\" style=\"fill:#8B4903A0;stroke-width:0\"/>\n",
       "\n",
       "  <!-- Horizontal lines -->\n",
       "  <line x1=\"10\" y1=\"0\" x2=\"111\" y2=\"0\" style=\"stroke-width:2\" />\n",
       "  <line x1=\"11\" y1=\"1\" x2=\"112\" y2=\"1\" />\n",
       "  <line x1=\"12\" y1=\"2\" x2=\"114\" y2=\"2\" />\n",
       "  <line x1=\"13\" y1=\"3\" x2=\"115\" y2=\"3\" />\n",
       "  <line x1=\"15\" y1=\"5\" x2=\"116\" y2=\"5\" />\n",
       "  <line x1=\"16\" y1=\"6\" x2=\"118\" y2=\"6\" />\n",
       "  <line x1=\"17\" y1=\"7\" x2=\"119\" y2=\"7\" />\n",
       "  <line x1=\"19\" y1=\"9\" x2=\"120\" y2=\"9\" />\n",
       "  <line x1=\"20\" y1=\"10\" x2=\"121\" y2=\"10\" />\n",
       "  <line x1=\"21\" y1=\"11\" x2=\"123\" y2=\"11\" />\n",
       "  <line x1=\"23\" y1=\"13\" x2=\"124\" y2=\"13\" />\n",
       "  <line x1=\"24\" y1=\"14\" x2=\"125\" y2=\"14\" />\n",
       "  <line x1=\"25\" y1=\"15\" x2=\"127\" y2=\"15\" />\n",
       "  <line x1=\"27\" y1=\"17\" x2=\"128\" y2=\"17\" />\n",
       "  <line x1=\"28\" y1=\"18\" x2=\"129\" y2=\"18\" />\n",
       "  <line x1=\"29\" y1=\"19\" x2=\"131\" y2=\"19\" />\n",
       "  <line x1=\"31\" y1=\"21\" x2=\"132\" y2=\"21\" />\n",
       "  <line x1=\"32\" y1=\"22\" x2=\"133\" y2=\"22\" />\n",
       "  <line x1=\"33\" y1=\"23\" x2=\"135\" y2=\"23\" />\n",
       "  <line x1=\"34\" y1=\"24\" x2=\"136\" y2=\"24\" style=\"stroke-width:2\" />\n",
       "\n",
       "  <!-- Vertical lines -->\n",
       "  <line x1=\"10\" y1=\"0\" x2=\"34\" y2=\"24\" style=\"stroke-width:2\" />\n",
       "  <line x1=\"26\" y1=\"0\" x2=\"51\" y2=\"24\" />\n",
       "  <line x1=\"43\" y1=\"0\" x2=\"68\" y2=\"24\" />\n",
       "  <line x1=\"60\" y1=\"0\" x2=\"85\" y2=\"24\" />\n",
       "  <line x1=\"77\" y1=\"0\" x2=\"102\" y2=\"24\" />\n",
       "  <line x1=\"94\" y1=\"0\" x2=\"119\" y2=\"24\" />\n",
       "  <line x1=\"111\" y1=\"0\" x2=\"136\" y2=\"24\" style=\"stroke-width:2\" />\n",
       "\n",
       "  <!-- Colored Rectangle -->\n",
       "  <polygon points=\"10.0,0.0 111.4491150442478,0.0 136.43583945618016,24.986724411932354 34.98672441193236,24.986724411932354\" style=\"fill:#8B4903A0;stroke-width:0\"/>\n",
       "\n",
       "  <!-- Horizontal lines -->\n",
       "  <line x1=\"34\" y1=\"24\" x2=\"136\" y2=\"24\" style=\"stroke-width:2\" />\n",
       "  <line x1=\"34\" y1=\"41\" x2=\"136\" y2=\"41\" />\n",
       "  <line x1=\"34\" y1=\"58\" x2=\"136\" y2=\"58\" />\n",
       "  <line x1=\"34\" y1=\"75\" x2=\"136\" y2=\"75\" />\n",
       "  <line x1=\"34\" y1=\"92\" x2=\"136\" y2=\"92\" />\n",
       "  <line x1=\"34\" y1=\"109\" x2=\"136\" y2=\"109\" />\n",
       "  <line x1=\"34\" y1=\"126\" x2=\"136\" y2=\"126\" />\n",
       "  <line x1=\"34\" y1=\"143\" x2=\"136\" y2=\"143\" />\n",
       "  <line x1=\"34\" y1=\"144\" x2=\"136\" y2=\"144\" style=\"stroke-width:2\" />\n",
       "\n",
       "  <!-- Vertical lines -->\n",
       "  <line x1=\"34\" y1=\"24\" x2=\"34\" y2=\"144\" style=\"stroke-width:2\" />\n",
       "  <line x1=\"51\" y1=\"24\" x2=\"51\" y2=\"144\" />\n",
       "  <line x1=\"68\" y1=\"24\" x2=\"68\" y2=\"144\" />\n",
       "  <line x1=\"85\" y1=\"24\" x2=\"85\" y2=\"144\" />\n",
       "  <line x1=\"102\" y1=\"24\" x2=\"102\" y2=\"144\" />\n",
       "  <line x1=\"119\" y1=\"24\" x2=\"119\" y2=\"144\" />\n",
       "  <line x1=\"136\" y1=\"24\" x2=\"136\" y2=\"144\" style=\"stroke-width:2\" />\n",
       "\n",
       "  <!-- Colored Rectangle -->\n",
       "  <polygon points=\"34.98672441193236,24.986724411932354 136.43583945618016,24.986724411932354 136.43583945618016,144.98672441193236 34.98672441193236,144.98672441193236\" style=\"fill:#ECB172A0;stroke-width:0\"/>\n",
       "\n",
       "  <!-- Text -->\n",
       "  <text x=\"85.711282\" y=\"164.986724\" font-size=\"1.0rem\" font-weight=\"100\" text-anchor=\"middle\" >6114</text>\n",
       "  <text x=\"156.435839\" y=\"84.986724\" font-size=\"1.0rem\" font-weight=\"100\" text-anchor=\"middle\" transform=\"rotate(-90,156.435839,84.986724)\">7232</text>\n",
       "  <text x=\"12.493362\" y=\"152.493362\" font-size=\"1.0rem\" font-weight=\"100\" text-anchor=\"middle\" transform=\"rotate(45,12.493362,152.493362)\">1621</text>\n",
       "</svg>\n",
       "        </td>\n",
       "    </tr>\n",
       "</table>"
      ],
      "text/plain": [
       "dask.array<getitem, shape=(1621, 7232, 6114), dtype=uint16, chunksize=(1, 1024, 1024), chunktype=numpy.ndarray>"
      ]
     },
     "execution_count": 12,
     "metadata": {},
     "output_type": "execute_result"
    }
   ],
   "source": [
    "\n",
    "#get channel 0\n",
    "darr = da.from_zarr(in_zarr,component='/0')[0]\n",
    "darr"
   ]
  },
  {
   "cell_type": "code",
   "execution_count": 8,
   "id": "bb7dc77f-f82f-40df-972e-945d6411e759",
   "metadata": {},
   "outputs": [
    {
     "data": {
      "text/html": [
       "<table>\n",
       "    <tr>\n",
       "        <td>\n",
       "            <table style=\"border-collapse: collapse;\">\n",
       "                <thead>\n",
       "                    <tr>\n",
       "                        <td> </td>\n",
       "                        <th> Array </th>\n",
       "                        <th> Chunk </th>\n",
       "                    </tr>\n",
       "                </thead>\n",
       "                <tbody>\n",
       "                    \n",
       "                    <tr>\n",
       "                        <th> Bytes </th>\n",
       "                        <td> 84.34 MiB </td>\n",
       "                        <td> 2.00 MiB </td>\n",
       "                    </tr>\n",
       "                    \n",
       "                    <tr>\n",
       "                        <th> Shape </th>\n",
       "                        <td> (7232, 6114) </td>\n",
       "                        <td> (1024, 1024) </td>\n",
       "                    </tr>\n",
       "                    <tr>\n",
       "                        <th> Dask graph </th>\n",
       "                        <td colspan=\"2\"> 48 chunks in 10 graph layers </td>\n",
       "                    </tr>\n",
       "                    <tr>\n",
       "                        <th> Data type </th>\n",
       "                        <td colspan=\"2\"> uint16 numpy.ndarray </td>\n",
       "                    </tr>\n",
       "                </tbody>\n",
       "            </table>\n",
       "        </td>\n",
       "        <td>\n",
       "        <svg width=\"151\" height=\"170\" style=\"stroke:rgb(0,0,0);stroke-width:1\" >\n",
       "\n",
       "  <!-- Horizontal lines -->\n",
       "  <line x1=\"0\" y1=\"0\" x2=\"101\" y2=\"0\" style=\"stroke-width:2\" />\n",
       "  <line x1=\"0\" y1=\"16\" x2=\"101\" y2=\"16\" />\n",
       "  <line x1=\"0\" y1=\"33\" x2=\"101\" y2=\"33\" />\n",
       "  <line x1=\"0\" y1=\"50\" x2=\"101\" y2=\"50\" />\n",
       "  <line x1=\"0\" y1=\"67\" x2=\"101\" y2=\"67\" />\n",
       "  <line x1=\"0\" y1=\"84\" x2=\"101\" y2=\"84\" />\n",
       "  <line x1=\"0\" y1=\"101\" x2=\"101\" y2=\"101\" />\n",
       "  <line x1=\"0\" y1=\"118\" x2=\"101\" y2=\"118\" />\n",
       "  <line x1=\"0\" y1=\"120\" x2=\"101\" y2=\"120\" style=\"stroke-width:2\" />\n",
       "\n",
       "  <!-- Vertical lines -->\n",
       "  <line x1=\"0\" y1=\"0\" x2=\"0\" y2=\"120\" style=\"stroke-width:2\" />\n",
       "  <line x1=\"16\" y1=\"0\" x2=\"16\" y2=\"120\" />\n",
       "  <line x1=\"33\" y1=\"0\" x2=\"33\" y2=\"120\" />\n",
       "  <line x1=\"50\" y1=\"0\" x2=\"50\" y2=\"120\" />\n",
       "  <line x1=\"67\" y1=\"0\" x2=\"67\" y2=\"120\" />\n",
       "  <line x1=\"84\" y1=\"0\" x2=\"84\" y2=\"120\" />\n",
       "  <line x1=\"101\" y1=\"0\" x2=\"101\" y2=\"120\" style=\"stroke-width:2\" />\n",
       "\n",
       "  <!-- Colored Rectangle -->\n",
       "  <polygon points=\"0.0,0.0 101.4491150442478,0.0 101.4491150442478,120.0 0.0,120.0\" style=\"fill:#ECB172A0;stroke-width:0\"/>\n",
       "\n",
       "  <!-- Text -->\n",
       "  <text x=\"50.724558\" y=\"140.000000\" font-size=\"1.0rem\" font-weight=\"100\" text-anchor=\"middle\" >6114</text>\n",
       "  <text x=\"121.449115\" y=\"60.000000\" font-size=\"1.0rem\" font-weight=\"100\" text-anchor=\"middle\" transform=\"rotate(-90,121.449115,60.000000)\">7232</text>\n",
       "</svg>\n",
       "        </td>\n",
       "    </tr>\n",
       "</table>"
      ],
      "text/plain": [
       "dask.array<max-aggregate, shape=(7232, 6114), dtype=uint16, chunksize=(1024, 1024), chunktype=numpy.ndarray>"
      ]
     },
     "execution_count": 8,
     "metadata": {},
     "output_type": "execute_result"
    }
   ],
   "source": [
    "darr_mip = da.max(darr,axis=0)\n",
    "darr_mip"
   ]
  },
  {
   "cell_type": "code",
   "execution_count": 9,
   "id": "3909d396-ea05-4c94-963c-144460208690",
   "metadata": {},
   "outputs": [
    {
     "name": "stdout",
     "output_type": "stream",
     "text": [
      "[                                        ] | 0% Completed | 7.10 s ms\n"
     ]
    },
    {
     "ename": "KeyboardInterrupt",
     "evalue": "",
     "output_type": "error",
     "traceback": [
      "\u001b[0;31m---------------------------------------------------------------------------\u001b[0m",
      "\u001b[0;31mKeyboardInterrupt\u001b[0m                         Traceback (most recent call last)",
      "Cell \u001b[0;32mIn[9], line 2\u001b[0m\n\u001b[1;32m      1\u001b[0m \u001b[38;5;28;01mwith\u001b[39;00m ProgressBar():\n\u001b[0;32m----> 2\u001b[0m     arr_mip \u001b[38;5;241m=\u001b[39m \u001b[43mdarr_mip\u001b[49m\u001b[38;5;241;43m.\u001b[39;49m\u001b[43mcompute\u001b[49m\u001b[43m(\u001b[49m\u001b[43m)\u001b[49m\n",
      "File \u001b[0;32m/localscratch/pypoetry_venv/spimquant-FX4pj9UN-py3.11/lib/python3.11/site-packages/dask/base.py:377\u001b[0m, in \u001b[0;36mDaskMethodsMixin.compute\u001b[0;34m(self, **kwargs)\u001b[0m\n\u001b[1;32m    353\u001b[0m \u001b[38;5;28;01mdef\u001b[39;00m \u001b[38;5;21mcompute\u001b[39m(\u001b[38;5;28mself\u001b[39m, \u001b[38;5;241m*\u001b[39m\u001b[38;5;241m*\u001b[39mkwargs):\n\u001b[1;32m    354\u001b[0m \u001b[38;5;250m    \u001b[39m\u001b[38;5;124;03m\"\"\"Compute this dask collection\u001b[39;00m\n\u001b[1;32m    355\u001b[0m \n\u001b[1;32m    356\u001b[0m \u001b[38;5;124;03m    This turns a lazy Dask collection into its in-memory equivalent.\u001b[39;00m\n\u001b[0;32m   (...)\u001b[0m\n\u001b[1;32m    375\u001b[0m \u001b[38;5;124;03m    dask.compute\u001b[39;00m\n\u001b[1;32m    376\u001b[0m \u001b[38;5;124;03m    \"\"\"\u001b[39;00m\n\u001b[0;32m--> 377\u001b[0m     (result,) \u001b[38;5;241m=\u001b[39m \u001b[43mcompute\u001b[49m\u001b[43m(\u001b[49m\u001b[38;5;28;43mself\u001b[39;49m\u001b[43m,\u001b[49m\u001b[43m \u001b[49m\u001b[43mtraverse\u001b[49m\u001b[38;5;241;43m=\u001b[39;49m\u001b[38;5;28;43;01mFalse\u001b[39;49;00m\u001b[43m,\u001b[49m\u001b[43m \u001b[49m\u001b[38;5;241;43m*\u001b[39;49m\u001b[38;5;241;43m*\u001b[39;49m\u001b[43mkwargs\u001b[49m\u001b[43m)\u001b[49m\n\u001b[1;32m    378\u001b[0m     \u001b[38;5;28;01mreturn\u001b[39;00m result\n",
      "File \u001b[0;32m/localscratch/pypoetry_venv/spimquant-FX4pj9UN-py3.11/lib/python3.11/site-packages/dask/base.py:663\u001b[0m, in \u001b[0;36mcompute\u001b[0;34m(traverse, optimize_graph, scheduler, get, *args, **kwargs)\u001b[0m\n\u001b[1;32m    660\u001b[0m     postcomputes\u001b[38;5;241m.\u001b[39mappend(x\u001b[38;5;241m.\u001b[39m__dask_postcompute__())\n\u001b[1;32m    662\u001b[0m \u001b[38;5;28;01mwith\u001b[39;00m shorten_traceback():\n\u001b[0;32m--> 663\u001b[0m     results \u001b[38;5;241m=\u001b[39m \u001b[43mschedule\u001b[49m\u001b[43m(\u001b[49m\u001b[43mdsk\u001b[49m\u001b[43m,\u001b[49m\u001b[43m \u001b[49m\u001b[43mkeys\u001b[49m\u001b[43m,\u001b[49m\u001b[43m \u001b[49m\u001b[38;5;241;43m*\u001b[39;49m\u001b[38;5;241;43m*\u001b[39;49m\u001b[43mkwargs\u001b[49m\u001b[43m)\u001b[49m\n\u001b[1;32m    665\u001b[0m \u001b[38;5;28;01mreturn\u001b[39;00m repack([f(r, \u001b[38;5;241m*\u001b[39ma) \u001b[38;5;28;01mfor\u001b[39;00m r, (f, a) \u001b[38;5;129;01min\u001b[39;00m \u001b[38;5;28mzip\u001b[39m(results, postcomputes)])\n",
      "File \u001b[0;32m/localscratch/pypoetry_venv/spimquant-FX4pj9UN-py3.11/lib/python3.11/site-packages/dask/order.py:604\u001b[0m, in \u001b[0;36morder\u001b[0;34m(dsk, dependencies, return_stats)\u001b[0m\n\u001b[1;32m    602\u001b[0m     \u001b[38;5;28;01melse\u001b[39;00m:\n\u001b[1;32m    603\u001b[0m         \u001b[38;5;28;01mif\u001b[39;00m walked_back \u001b[38;5;129;01mand\u001b[39;00m \u001b[38;5;28mlen\u001b[39m(runnable) \u001b[38;5;241m<\u001b[39m \u001b[38;5;28mlen\u001b[39m(critical_path):\n\u001b[0;32m--> 604\u001b[0m             \u001b[43mprocess_runnables\u001b[49m\u001b[43m(\u001b[49m\u001b[43m)\u001b[49m\n\u001b[1;32m    605\u001b[0m         add_to_result(item)\n\u001b[1;32m    606\u001b[0m process_runnables()\n",
      "File \u001b[0;32m/localscratch/pypoetry_venv/spimquant-FX4pj9UN-py3.11/lib/python3.11/site-packages/dask/order.py:271\u001b[0m, in \u001b[0;36morder.<locals>._with_offset.<locals>.wrapper\u001b[0;34m(*args, **kwargs)\u001b[0m\n\u001b[1;32m    264\u001b[0m \u001b[38;5;28;01mdef\u001b[39;00m \u001b[38;5;21m_with_offset\u001b[39m(func: Callable[\u001b[38;5;241m.\u001b[39m\u001b[38;5;241m.\u001b[39m\u001b[38;5;241m.\u001b[39m, \u001b[38;5;28;01mNone\u001b[39;00m]) \u001b[38;5;241m-\u001b[39m\u001b[38;5;241m>\u001b[39m Callable[\u001b[38;5;241m.\u001b[39m\u001b[38;5;241m.\u001b[39m\u001b[38;5;241m.\u001b[39m, \u001b[38;5;28;01mNone\u001b[39;00m]:\n\u001b[1;32m    265\u001b[0m     \u001b[38;5;66;03m# This decorator is only used to reduce indentation levels. The offset\u001b[39;00m\n\u001b[1;32m    266\u001b[0m     \u001b[38;5;66;03m# is purely cosmetical and used for some visualizations and I haven't\u001b[39;00m\n\u001b[1;32m    267\u001b[0m     \u001b[38;5;66;03m# settled on how to implement this best so I didn't want to have large\u001b[39;00m\n\u001b[1;32m    268\u001b[0m     \u001b[38;5;66;03m# indentations that make things harder to read\u001b[39;00m\n\u001b[1;32m    269\u001b[0m     \u001b[38;5;28;01mnonlocal\u001b[39;00m _crit_path_counter_offset\n\u001b[0;32m--> 271\u001b[0m     \u001b[38;5;28;01mdef\u001b[39;00m \u001b[38;5;21mwrapper\u001b[39m(\u001b[38;5;241m*\u001b[39margs: Any, \u001b[38;5;241m*\u001b[39m\u001b[38;5;241m*\u001b[39mkwargs: Any) \u001b[38;5;241m-\u001b[39m\u001b[38;5;241m>\u001b[39m \u001b[38;5;28;01mNone\u001b[39;00m:\n\u001b[1;32m    272\u001b[0m         \u001b[38;5;28;01mnonlocal\u001b[39;00m _crit_path_counter_offset\n\u001b[1;32m    273\u001b[0m         _crit_path_counter_offset \u001b[38;5;241m=\u001b[39m \u001b[38;5;241m0.5\u001b[39m\n",
      "\u001b[0;31mKeyboardInterrupt\u001b[0m: "
     ]
    }
   ],
   "source": [
    "with ProgressBar():\n",
    "    arr_mip = darr_mip.compute()"
   ]
  },
  {
   "cell_type": "code",
   "execution_count": null,
   "id": "f7a1cf19-88eb-4fa5-9c21-e194e21af23c",
   "metadata": {},
   "outputs": [],
   "source": [
    "plt.imshow(arr_mip)"
   ]
  },
  {
   "cell_type": "code",
   "execution_count": null,
   "id": "216f1921-b7a4-4ac4-8eec-c60a1d80808f",
   "metadata": {},
   "outputs": [],
   "source": [
    "import skimage\n",
    "skimage.io.imsave('mip_4x_fix.tif',arr_mip)"
   ]
  },
  {
   "cell_type": "code",
   "execution_count": null,
   "id": "1b5ada0e-51ad-4fce-ab76-84426bc5b9fd",
   "metadata": {},
   "outputs": [],
   "source": [
    "z=500\n",
    "darr_slice=darr[z,:,:].squeeze()\n",
    "skimage.io.imsave(f'z-{z}.tif',darr_slice)"
   ]
  },
  {
   "cell_type": "markdown",
   "id": "3c32a58c-15a8-4b5e-a67f-78f8d166b286",
   "metadata": {},
   "source": [
    "# MIP after rotating in 3D - full example"
   ]
  },
  {
   "cell_type": "code",
   "execution_count": null,
   "id": "09378824-9ea0-4b17-a61d-a4bf9bb69d4b",
   "metadata": {},
   "outputs": [],
   "source": [
    "from dask_image.ndinterp import affine_transform\n",
    "from scipy.spatial.transform import Rotation as R\n",
    "import numpy as np\n",
    "from scipy.linalg  import inv\n",
    "\n",
    "\n",
    "def get_rotation_on_center(shape, degrees, axis_name):\n",
    "        \n",
    "    r0 = np.eye(4) \n",
    "    r0[0,3] = -shape[0]/2\n",
    "    r0[1,3] = -shape[1]/2\n",
    "    r0[2,3] = -shape[2]/2\n",
    "    \n",
    "    r1 = np.eye(4)\n",
    "    r1[:3,:3]=R.from_euler(axis_name, degrees, degrees=True).as_matrix()\n",
    "\n",
    "    #to get rotation around center of image: move origin, rotate, move origin back \n",
    "    return inv(r0) @ r1 @ r0"
   ]
  },
  {
   "cell_type": "code",
   "execution_count": null,
   "id": "9247e38a-0930-4e88-8aaf-db8b550f0f6b",
   "metadata": {},
   "outputs": [],
   "source": [
    "from pathlib import Path\n",
    "import zarr\n",
    "from tqdm import tqdm\n",
    "\n",
    "subject='mouse1'\n",
    "acq='4x'\n",
    "level=4\n",
    "mip_axis=0 \n",
    "rot_axis='y'\n",
    "channel=0\n",
    "angle_increment=5\n",
    "z_padding=0.4 #to avoid going out of fov with rotation\n",
    "\n",
    "in_zarr_pattern = '/cifs/prado/Kelly/data/lightsheet/bids/test_bids/sub-{subject}/micr/sub-{subject}_sample-brain_acq-{acq}_spim.ome.zarr.zip'\n",
    "in_zarr = in_zarr_pattern.format(subject=subject, acq=acq)"
   ]
  },
  {
   "cell_type": "code",
   "execution_count": null,
   "id": "cfd515d4-fe7f-40da-8aed-3a3e606bcc1b",
   "metadata": {},
   "outputs": [],
   "source": [
    "z_in = zarr.open(in_zarr)\n",
    "attrs = z_in['/'].attrs.asdict()\n",
    "\n",
    "#get voxel dimensions for the given level\n",
    "coord_transforms = attrs['multiscales'][0]['datasets'][level]['coordinateTransformations']\n",
    "coord_transforms\n",
    "zscale=coord_transforms[0]['scale'][-3] \n",
    "xyscale=coord_transforms[0]['scale'][-2]\n",
    "\n",
    "#zfactor is how much thicker (greater than 1) /thinner (less than 1) Z is than x and y dims\n",
    "# ie we need to rescale z dim by this factor to get isotropic volume \n",
    "zfactor = zscale/xyscale\n",
    "zfactor\n",
    "\n",
    "zstep = int(np.round(1/zfactor))\n",
    "zstep"
   ]
  },
  {
   "cell_type": "code",
   "execution_count": null,
   "id": "91952fa2-a4b0-4bfb-8076-3a9a61c3af64",
   "metadata": {},
   "outputs": [],
   "source": [
    "darr_ds = da.from_zarr(in_zarr,component=f'/{level}')[channel][::zstep,:,:]\n",
    "darr_pad = da.zeros((int(darr_ds.shape[0]*z_padding),darr_ds.shape[1],darr_ds.shape[2]),dtype='uint16')\n",
    "darr_ds = da.concatenate([darr_pad,darr_ds,darr_pad],axis=0)\n",
    "                    \n",
    "out_dir=Path(f'sub-{subject}_acq-{acq}_channel-{channel}_level-{level}_rotate-{rot_axis}_axis-{mip_axis}_MIP')\n",
    "\n",
    "#make out dir\n",
    "out_dir.mkdir(parents=True, exist_ok=True)"
   ]
  },
  {
   "cell_type": "code",
   "execution_count": null,
   "id": "b91e6b5b-5bf4-4895-9458-7981e5ade45f",
   "metadata": {},
   "outputs": [],
   "source": [
    "#generate mips while rotating to make animation\n",
    "\n",
    "for angle in tqdm(range(0,360,angle_increment)):\n",
    "    with ProgressBar():\n",
    "        darr_mip=affine_transform(darr_ds,get_rotation_on_center(darr_ds.shape,angle,rot_axis)).max(axis=mip_axis)\n",
    "        out_file = out_dir / f'MIP_rotate-{angle:03d}.tif' \n",
    "        skimage.io.imsave(out_file,darr_mip)"
   ]
  },
  {
   "cell_type": "code",
   "execution_count": null,
   "id": "719b8e4e-0b77-4401-af60-33442a99620f",
   "metadata": {},
   "outputs": [],
   "source": []
  }
 ],
 "metadata": {
  "kernelspec": {
   "display_name": "Python 3 (ipykernel)",
   "language": "python",
   "name": "python3"
  },
  "language_info": {
   "codemirror_mode": {
    "name": "ipython",
    "version": 3
   },
   "file_extension": ".py",
   "mimetype": "text/x-python",
   "name": "python",
   "nbconvert_exporter": "python",
   "pygments_lexer": "ipython3",
   "version": "3.11.7"
  }
 },
 "nbformat": 4,
 "nbformat_minor": 5
}
