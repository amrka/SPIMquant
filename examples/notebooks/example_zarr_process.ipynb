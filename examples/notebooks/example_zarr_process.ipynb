{
 "cells": [
  {
   "cell_type": "markdown",
   "id": "40af203f-5847-4176-a5b9-85dad2f4ffd2",
   "metadata": {},
   "source": [
    "# Example for analyzing ome-zarr data from SPIMprep outputs"
   ]
  },
  {
   "cell_type": "code",
   "execution_count": 36,
   "id": "e76d2d1c-1c4c-4839-84ab-41eff33760c7",
   "metadata": {},
   "outputs": [],
   "source": [
    "import zarr\n",
    "import dask.array as da\n",
    "import numpy as np\n",
    "from dask.diagnostics import ProgressBar"
   ]
  },
  {
   "cell_type": "code",
   "execution_count": 37,
   "id": "d60b7444-57a2-41a2-99ee-9315a856969b",
   "metadata": {},
   "outputs": [],
   "source": [
    "#spimprep_dir='/home/ROBARTS/alik/graham/cfmm-bids/Prado/LightsheetMicroscopy/bids_spimprep_20240213'\n",
    "spimprep_dir='/home/ROBARTS/alik/graham/scratch/3_processing/SPIMprep/results'\n",
    "\n",
    "zarr_file=f'{spimprep_dir}/sub-mouse1/micr/sub-mouse1_acq-4x_desc-stitchedflatcorr_sample-brain_stain-abeta_spim.ome.zarr.zip'\n"
   ]
  },
  {
   "cell_type": "markdown",
   "id": "c60fc2dc-c390-4538-bdcb-3f032be457ea",
   "metadata": {},
   "source": [
    "## Reading data"
   ]
  },
  {
   "cell_type": "code",
   "execution_count": 38,
   "id": "77fcea35-6e2e-4d23-a1db-fe877661afb3",
   "metadata": {},
   "outputs": [
    {
     "data": {
      "application/vnd.jupyter.widget-view+json": {
       "model_id": "d1aba24ec19548378fe407929e8243d0",
       "version_major": 2,
       "version_minor": 0
      },
      "text/plain": [
       "Tree(nodes=(Node(disabled=True, name='/', nodes=(Node(disabled=True, icon='table', name='0 (1616, 7169, 6049) …"
      ]
     },
     "execution_count": 38,
     "metadata": {},
     "output_type": "execute_result"
    }
   ],
   "source": [
    "#read in the zar (zipped) using zarr.open() to see what is there\n",
    "z = zarr.open(zarr_file)\n",
    "z.tree()"
   ]
  },
  {
   "cell_type": "code",
   "execution_count": 39,
   "id": "c0b7a870-60c4-4f9c-b55f-9890148a90b7",
   "metadata": {},
   "outputs": [
    {
     "data": {
      "text/plain": [
       "<zarr.core.Array '/0' (1616, 7169, 6049) >u2>"
      ]
     },
     "execution_count": 39,
     "metadata": {},
     "output_type": "execute_result"
    }
   ],
   "source": [
    "#the folders are called \"groups\" in zarr, and the arrays are \"datasets\"\n",
    " # can build a path with slashes \n",
    "\n",
    "dataset = z['/0']\n",
    "dataset\n"
   ]
  },
  {
   "cell_type": "code",
   "execution_count": 40,
   "id": "7bf3af70-ecc1-48bf-8bdb-00ffb71e3a98",
   "metadata": {},
   "outputs": [
    {
     "data": {
      "text/plain": [
       "{'multiscales': [{'axes': [{'name': 'z',\n",
       "     'type': 'space',\n",
       "     'unit': 'micrometer'},\n",
       "    {'name': 'y', 'type': 'space', 'unit': 'micrometer'},\n",
       "    {'name': 'x', 'type': 'space', 'unit': 'micrometer'}],\n",
       "   'datasets': [{'coordinateTransformations': [{'scale': [0.004,\n",
       "        0.0027083330000000003,\n",
       "        0.0027083330000000003],\n",
       "       'type': 'scale'}],\n",
       "     'path': '0'},\n",
       "    {'coordinateTransformations': [{'scale': [0.004,\n",
       "        0.0054166660000000005,\n",
       "        0.0054166660000000005],\n",
       "       'type': 'scale'}],\n",
       "     'path': '1'},\n",
       "    {'coordinateTransformations': [{'scale': [0.004,\n",
       "        0.010833332000000001,\n",
       "        0.010833332000000001],\n",
       "       'type': 'scale'}],\n",
       "     'path': '2'},\n",
       "    {'coordinateTransformations': [{'scale': [0.004,\n",
       "        0.021666664000000002,\n",
       "        0.021666664000000002],\n",
       "       'type': 'scale'}],\n",
       "     'path': '3'},\n",
       "    {'coordinateTransformations': [{'scale': [0.004,\n",
       "        0.043333328000000004,\n",
       "        0.043333328000000004],\n",
       "       'type': 'scale'}],\n",
       "     'path': '4'}],\n",
       "   'name': '/',\n",
       "   'version': '0.4'}]}"
      ]
     },
     "execution_count": 40,
     "metadata": {},
     "output_type": "execute_result"
    }
   ],
   "source": [
    "# there is also metadata (OME-Zarr) for the multiscale image\n",
    "z['/'].attrs.asdict()"
   ]
  },
  {
   "cell_type": "code",
   "execution_count": 41,
   "id": "b76efb38-6b89-49f7-af89-f6fc7b07fcd3",
   "metadata": {},
   "outputs": [],
   "source": [
    "#TODO: remove toplevel fused folder (for OME napari compatibility)"
   ]
  },
  {
   "cell_type": "code",
   "execution_count": 42,
   "id": "53462d8d-e921-4958-9d26-476a063c6846",
   "metadata": {},
   "outputs": [
    {
     "data": {
      "text/html": [
       "<table>\n",
       "    <tr>\n",
       "        <td>\n",
       "            <table style=\"border-collapse: collapse;\">\n",
       "                <thead>\n",
       "                    <tr>\n",
       "                        <td> </td>\n",
       "                        <th> Array </th>\n",
       "                        <th> Chunk </th>\n",
       "                    </tr>\n",
       "                </thead>\n",
       "                <tbody>\n",
       "                    \n",
       "                    <tr>\n",
       "                        <th> Bytes </th>\n",
       "                        <td> 130.53 GiB </td>\n",
       "                        <td> 2.00 MiB </td>\n",
       "                    </tr>\n",
       "                    \n",
       "                    <tr>\n",
       "                        <th> Shape </th>\n",
       "                        <td> (1616, 7169, 6049) </td>\n",
       "                        <td> (1, 1024, 1024) </td>\n",
       "                    </tr>\n",
       "                    <tr>\n",
       "                        <th> Dask graph </th>\n",
       "                        <td colspan=\"2\"> 77568 chunks in 2 graph layers </td>\n",
       "                    </tr>\n",
       "                    <tr>\n",
       "                        <th> Data type </th>\n",
       "                        <td colspan=\"2\"> >u2 numpy.ndarray </td>\n",
       "                    </tr>\n",
       "                </tbody>\n",
       "            </table>\n",
       "        </td>\n",
       "        <td>\n",
       "        <svg width=\"186\" height=\"194\" style=\"stroke:rgb(0,0,0);stroke-width:1\" >\n",
       "\n",
       "  <!-- Horizontal lines -->\n",
       "  <line x1=\"10\" y1=\"0\" x2=\"34\" y2=\"24\" style=\"stroke-width:2\" />\n",
       "  <line x1=\"10\" y1=\"17\" x2=\"34\" y2=\"42\" />\n",
       "  <line x1=\"10\" y1=\"34\" x2=\"34\" y2=\"59\" />\n",
       "  <line x1=\"10\" y1=\"51\" x2=\"34\" y2=\"76\" />\n",
       "  <line x1=\"10\" y1=\"68\" x2=\"34\" y2=\"93\" />\n",
       "  <line x1=\"10\" y1=\"85\" x2=\"34\" y2=\"110\" />\n",
       "  <line x1=\"10\" y1=\"102\" x2=\"34\" y2=\"127\" />\n",
       "  <line x1=\"10\" y1=\"119\" x2=\"34\" y2=\"144\" />\n",
       "  <line x1=\"10\" y1=\"120\" x2=\"34\" y2=\"144\" style=\"stroke-width:2\" />\n",
       "\n",
       "  <!-- Vertical lines -->\n",
       "  <line x1=\"10\" y1=\"0\" x2=\"10\" y2=\"120\" style=\"stroke-width:2\" />\n",
       "  <line x1=\"11\" y1=\"1\" x2=\"11\" y2=\"121\" />\n",
       "  <line x1=\"12\" y1=\"2\" x2=\"12\" y2=\"122\" />\n",
       "  <line x1=\"13\" y1=\"3\" x2=\"13\" y2=\"123\" />\n",
       "  <line x1=\"15\" y1=\"5\" x2=\"15\" y2=\"125\" />\n",
       "  <line x1=\"16\" y1=\"6\" x2=\"16\" y2=\"126\" />\n",
       "  <line x1=\"17\" y1=\"7\" x2=\"17\" y2=\"127\" />\n",
       "  <line x1=\"19\" y1=\"9\" x2=\"19\" y2=\"129\" />\n",
       "  <line x1=\"20\" y1=\"10\" x2=\"20\" y2=\"130\" />\n",
       "  <line x1=\"21\" y1=\"11\" x2=\"21\" y2=\"131\" />\n",
       "  <line x1=\"23\" y1=\"13\" x2=\"23\" y2=\"133\" />\n",
       "  <line x1=\"24\" y1=\"14\" x2=\"24\" y2=\"134\" />\n",
       "  <line x1=\"25\" y1=\"15\" x2=\"25\" y2=\"135\" />\n",
       "  <line x1=\"27\" y1=\"17\" x2=\"27\" y2=\"137\" />\n",
       "  <line x1=\"28\" y1=\"18\" x2=\"28\" y2=\"138\" />\n",
       "  <line x1=\"29\" y1=\"19\" x2=\"29\" y2=\"139\" />\n",
       "  <line x1=\"31\" y1=\"21\" x2=\"31\" y2=\"141\" />\n",
       "  <line x1=\"32\" y1=\"22\" x2=\"32\" y2=\"142\" />\n",
       "  <line x1=\"33\" y1=\"23\" x2=\"33\" y2=\"143\" />\n",
       "  <line x1=\"34\" y1=\"24\" x2=\"34\" y2=\"144\" style=\"stroke-width:2\" />\n",
       "\n",
       "  <!-- Colored Rectangle -->\n",
       "  <polygon points=\"10.0,0.0 34.99995021081277,24.99995021081277 34.99995021081277,144.99995021081276 10.0,120.0\" style=\"fill:#8B4903A0;stroke-width:0\"/>\n",
       "\n",
       "  <!-- Horizontal lines -->\n",
       "  <line x1=\"10\" y1=\"0\" x2=\"111\" y2=\"0\" style=\"stroke-width:2\" />\n",
       "  <line x1=\"11\" y1=\"1\" x2=\"112\" y2=\"1\" />\n",
       "  <line x1=\"12\" y1=\"2\" x2=\"113\" y2=\"2\" />\n",
       "  <line x1=\"13\" y1=\"3\" x2=\"115\" y2=\"3\" />\n",
       "  <line x1=\"15\" y1=\"5\" x2=\"116\" y2=\"5\" />\n",
       "  <line x1=\"16\" y1=\"6\" x2=\"117\" y2=\"6\" />\n",
       "  <line x1=\"17\" y1=\"7\" x2=\"119\" y2=\"7\" />\n",
       "  <line x1=\"19\" y1=\"9\" x2=\"120\" y2=\"9\" />\n",
       "  <line x1=\"20\" y1=\"10\" x2=\"121\" y2=\"10\" />\n",
       "  <line x1=\"21\" y1=\"11\" x2=\"123\" y2=\"11\" />\n",
       "  <line x1=\"23\" y1=\"13\" x2=\"124\" y2=\"13\" />\n",
       "  <line x1=\"24\" y1=\"14\" x2=\"125\" y2=\"14\" />\n",
       "  <line x1=\"25\" y1=\"15\" x2=\"127\" y2=\"15\" />\n",
       "  <line x1=\"27\" y1=\"17\" x2=\"128\" y2=\"17\" />\n",
       "  <line x1=\"28\" y1=\"18\" x2=\"129\" y2=\"18\" />\n",
       "  <line x1=\"29\" y1=\"19\" x2=\"130\" y2=\"19\" />\n",
       "  <line x1=\"31\" y1=\"21\" x2=\"132\" y2=\"21\" />\n",
       "  <line x1=\"32\" y1=\"22\" x2=\"133\" y2=\"22\" />\n",
       "  <line x1=\"33\" y1=\"23\" x2=\"134\" y2=\"23\" />\n",
       "  <line x1=\"34\" y1=\"24\" x2=\"136\" y2=\"24\" style=\"stroke-width:2\" />\n",
       "\n",
       "  <!-- Vertical lines -->\n",
       "  <line x1=\"10\" y1=\"0\" x2=\"34\" y2=\"24\" style=\"stroke-width:2\" />\n",
       "  <line x1=\"27\" y1=\"0\" x2=\"52\" y2=\"24\" />\n",
       "  <line x1=\"44\" y1=\"0\" x2=\"69\" y2=\"24\" />\n",
       "  <line x1=\"61\" y1=\"0\" x2=\"86\" y2=\"24\" />\n",
       "  <line x1=\"78\" y1=\"0\" x2=\"103\" y2=\"24\" />\n",
       "  <line x1=\"95\" y1=\"0\" x2=\"120\" y2=\"24\" />\n",
       "  <line x1=\"111\" y1=\"0\" x2=\"136\" y2=\"24\" style=\"stroke-width:2\" />\n",
       "\n",
       "  <!-- Colored Rectangle -->\n",
       "  <polygon points=\"10.0,0.0 111.25261542753522,0.0 136.252565638348,24.99995021081277 34.99995021081277,24.99995021081277\" style=\"fill:#8B4903A0;stroke-width:0\"/>\n",
       "\n",
       "  <!-- Horizontal lines -->\n",
       "  <line x1=\"34\" y1=\"24\" x2=\"136\" y2=\"24\" style=\"stroke-width:2\" />\n",
       "  <line x1=\"34\" y1=\"42\" x2=\"136\" y2=\"42\" />\n",
       "  <line x1=\"34\" y1=\"59\" x2=\"136\" y2=\"59\" />\n",
       "  <line x1=\"34\" y1=\"76\" x2=\"136\" y2=\"76\" />\n",
       "  <line x1=\"34\" y1=\"93\" x2=\"136\" y2=\"93\" />\n",
       "  <line x1=\"34\" y1=\"110\" x2=\"136\" y2=\"110\" />\n",
       "  <line x1=\"34\" y1=\"127\" x2=\"136\" y2=\"127\" />\n",
       "  <line x1=\"34\" y1=\"144\" x2=\"136\" y2=\"144\" />\n",
       "  <line x1=\"34\" y1=\"144\" x2=\"136\" y2=\"144\" style=\"stroke-width:2\" />\n",
       "\n",
       "  <!-- Vertical lines -->\n",
       "  <line x1=\"34\" y1=\"24\" x2=\"34\" y2=\"144\" style=\"stroke-width:2\" />\n",
       "  <line x1=\"52\" y1=\"24\" x2=\"52\" y2=\"144\" />\n",
       "  <line x1=\"69\" y1=\"24\" x2=\"69\" y2=\"144\" />\n",
       "  <line x1=\"86\" y1=\"24\" x2=\"86\" y2=\"144\" />\n",
       "  <line x1=\"103\" y1=\"24\" x2=\"103\" y2=\"144\" />\n",
       "  <line x1=\"120\" y1=\"24\" x2=\"120\" y2=\"144\" />\n",
       "  <line x1=\"136\" y1=\"24\" x2=\"136\" y2=\"144\" style=\"stroke-width:2\" />\n",
       "\n",
       "  <!-- Colored Rectangle -->\n",
       "  <polygon points=\"34.99995021081277,24.99995021081277 136.252565638348,24.99995021081277 136.252565638348,144.99995021081276 34.99995021081277,144.99995021081276\" style=\"fill:#ECB172A0;stroke-width:0\"/>\n",
       "\n",
       "  <!-- Text -->\n",
       "  <text x=\"85.626258\" y=\"164.999950\" font-size=\"1.0rem\" font-weight=\"100\" text-anchor=\"middle\" >6049</text>\n",
       "  <text x=\"156.252566\" y=\"84.999950\" font-size=\"1.0rem\" font-weight=\"100\" text-anchor=\"middle\" transform=\"rotate(-90,156.252566,84.999950)\">7169</text>\n",
       "  <text x=\"12.499975\" y=\"152.499975\" font-size=\"1.0rem\" font-weight=\"100\" text-anchor=\"middle\" transform=\"rotate(45,12.499975,152.499975)\">1616</text>\n",
       "</svg>\n",
       "        </td>\n",
       "    </tr>\n",
       "</table>"
      ],
      "text/plain": [
       "dask.array<from-zarr, shape=(1616, 7169, 6049), dtype=>u2, chunksize=(1, 1024, 1024), chunktype=numpy.ndarray>"
      ]
     },
     "execution_count": 42,
     "metadata": {},
     "output_type": "execute_result"
    }
   ],
   "source": [
    "#read in the full-resolution image as a dask array\n",
    "darr = da.from_zarr(zarr_file,component='/0')\n",
    "darr"
   ]
  },
  {
   "cell_type": "code",
   "execution_count": 43,
   "id": "5bf6f511-e414-4426-869d-ab33a2a1bade",
   "metadata": {},
   "outputs": [
    {
     "data": {
      "text/html": [
       "<table>\n",
       "    <tr>\n",
       "        <td>\n",
       "            <table style=\"border-collapse: collapse;\">\n",
       "                <thead>\n",
       "                    <tr>\n",
       "                        <td> </td>\n",
       "                        <th> Array </th>\n",
       "                        <th> Chunk </th>\n",
       "                    </tr>\n",
       "                </thead>\n",
       "                <tbody>\n",
       "                    \n",
       "                    <tr>\n",
       "                        <th> Bytes </th>\n",
       "                        <td> 82.71 MiB </td>\n",
       "                        <td> 2.00 MiB </td>\n",
       "                    </tr>\n",
       "                    \n",
       "                    <tr>\n",
       "                        <th> Shape </th>\n",
       "                        <td> (7169, 6049) </td>\n",
       "                        <td> (1024, 1024) </td>\n",
       "                    </tr>\n",
       "                    <tr>\n",
       "                        <th> Dask graph </th>\n",
       "                        <td colspan=\"2\"> 48 chunks in 3 graph layers </td>\n",
       "                    </tr>\n",
       "                    <tr>\n",
       "                        <th> Data type </th>\n",
       "                        <td colspan=\"2\"> >u2 numpy.ndarray </td>\n",
       "                    </tr>\n",
       "                </tbody>\n",
       "            </table>\n",
       "        </td>\n",
       "        <td>\n",
       "        <svg width=\"151\" height=\"170\" style=\"stroke:rgb(0,0,0);stroke-width:1\" >\n",
       "\n",
       "  <!-- Horizontal lines -->\n",
       "  <line x1=\"0\" y1=\"0\" x2=\"101\" y2=\"0\" style=\"stroke-width:2\" />\n",
       "  <line x1=\"0\" y1=\"17\" x2=\"101\" y2=\"17\" />\n",
       "  <line x1=\"0\" y1=\"34\" x2=\"101\" y2=\"34\" />\n",
       "  <line x1=\"0\" y1=\"51\" x2=\"101\" y2=\"51\" />\n",
       "  <line x1=\"0\" y1=\"68\" x2=\"101\" y2=\"68\" />\n",
       "  <line x1=\"0\" y1=\"85\" x2=\"101\" y2=\"85\" />\n",
       "  <line x1=\"0\" y1=\"102\" x2=\"101\" y2=\"102\" />\n",
       "  <line x1=\"0\" y1=\"119\" x2=\"101\" y2=\"119\" />\n",
       "  <line x1=\"0\" y1=\"120\" x2=\"101\" y2=\"120\" style=\"stroke-width:2\" />\n",
       "\n",
       "  <!-- Vertical lines -->\n",
       "  <line x1=\"0\" y1=\"0\" x2=\"0\" y2=\"120\" style=\"stroke-width:2\" />\n",
       "  <line x1=\"17\" y1=\"0\" x2=\"17\" y2=\"120\" />\n",
       "  <line x1=\"34\" y1=\"0\" x2=\"34\" y2=\"120\" />\n",
       "  <line x1=\"51\" y1=\"0\" x2=\"51\" y2=\"120\" />\n",
       "  <line x1=\"68\" y1=\"0\" x2=\"68\" y2=\"120\" />\n",
       "  <line x1=\"85\" y1=\"0\" x2=\"85\" y2=\"120\" />\n",
       "  <line x1=\"101\" y1=\"0\" x2=\"101\" y2=\"120\" style=\"stroke-width:2\" />\n",
       "\n",
       "  <!-- Colored Rectangle -->\n",
       "  <polygon points=\"0.0,0.0 101.25261542753522,0.0 101.25261542753522,120.0 0.0,120.0\" style=\"fill:#ECB172A0;stroke-width:0\"/>\n",
       "\n",
       "  <!-- Text -->\n",
       "  <text x=\"50.626308\" y=\"140.000000\" font-size=\"1.0rem\" font-weight=\"100\" text-anchor=\"middle\" >6049</text>\n",
       "  <text x=\"121.252615\" y=\"60.000000\" font-size=\"1.0rem\" font-weight=\"100\" text-anchor=\"middle\" transform=\"rotate(-90,121.252615,60.000000)\">7169</text>\n",
       "</svg>\n",
       "        </td>\n",
       "    </tr>\n",
       "</table>"
      ],
      "text/plain": [
       "dask.array<getitem, shape=(7169, 6049), dtype=>u2, chunksize=(1024, 1024), chunktype=numpy.ndarray>"
      ]
     },
     "execution_count": 43,
     "metadata": {},
     "output_type": "execute_result"
    }
   ],
   "source": [
    "#reading is instantaneous since we don't actually read the data\n",
    "\n",
    "#dask gives you a virtual array, and you can use dask.array functions or slicing to manipulate the data virtually\n",
    "\n",
    "darr_slice = darr[1000,:,:]\n",
    "darr_slice"
   ]
  },
  {
   "cell_type": "code",
   "execution_count": 17,
   "id": "cdc1c512-ab57-4b78-8918-19664aab35fb",
   "metadata": {},
   "outputs": [
    {
     "data": {
      "text/plain": [
       "array([[  0,   0,   0, ...,   0,   0,   0],\n",
       "       [  0, 141, 144, ..., 151,  94,   0],\n",
       "       [  0, 149, 150, ..., 149,  90,   0],\n",
       "       ...,\n",
       "       [  0, 162, 158, ..., 163, 163,   0],\n",
       "       [  0, 157, 156, ..., 152, 159,   0],\n",
       "       [  0,   0,   0, ...,   0,   0,   0]], dtype='>u2')"
      ]
     },
     "execution_count": 17,
     "metadata": {},
     "output_type": "execute_result"
    }
   ],
   "source": [
    "#if we want to get the actual data, we use da.compute()\n",
    "arr_slice = darr_slice.compute()\n",
    "arr_slice"
   ]
  },
  {
   "cell_type": "code",
   "execution_count": 18,
   "id": "b4682078-cefc-4e78-829a-ce62c274fb57",
   "metadata": {},
   "outputs": [
    {
     "data": {
      "text/plain": [
       "<matplotlib.colorbar.Colorbar at 0x7f949871c3d0>"
      ]
     },
     "execution_count": 18,
     "metadata": {},
     "output_type": "execute_result"
    },
    {
     "data": {
      "image/png": "[encoded data removed]",
      "text/plain": [
       "<Figure size 640x480 with 2 Axes>"
      ]
     },
     "metadata": {},
     "output_type": "display_data"
    }
   ],
   "source": [
    "#now we can plot it for example:\n",
    "import matplotlib.pyplot as plt\n",
    "\n",
    "plt.imshow(arr_slice)\n",
    "plt.colorbar()"
   ]
  },
  {
   "cell_type": "code",
   "execution_count": 20,
   "id": "acadbaca-7a19-4f84-b946-0a481327f9be",
   "metadata": {},
   "outputs": [
    {
     "ename": "KeyboardInterrupt",
     "evalue": "",
     "output_type": "error",
     "traceback": [
      "\u001b[0;31m---------------------------------------------------------------------------\u001b[0m",
      "\u001b[0;31mKeyboardInterrupt\u001b[0m                         Traceback (most recent call last)",
      "Cell \u001b[0;32mIn[20], line 3\u001b[0m\n\u001b[1;32m      1\u001b[0m \u001b[38;5;66;03m#can also grab the data from the zarr object, and use numpy to convert to numpy array\u001b[39;00m\n\u001b[1;32m      2\u001b[0m ds4\u001b[38;5;241m=\u001b[39mnp\u001b[38;5;241m.\u001b[39marray(z[\u001b[38;5;124m'\u001b[39m\u001b[38;5;124m/4\u001b[39m\u001b[38;5;124m'\u001b[39m])\n\u001b[0;32m----> 3\u001b[0m \u001b[43mplt\u001b[49m\u001b[38;5;241;43m.\u001b[39;49m\u001b[43mhist\u001b[49m\u001b[43m(\u001b[49m\u001b[43mds4\u001b[49m\u001b[38;5;241;43m.\u001b[39;49m\u001b[43mflat\u001b[49m\u001b[43m)\u001b[49m\n",
      "File \u001b[0;32m/local/scratch/pypoetry_venv/spimprep-Dn9SW3r3-py3.11/lib/python3.11/site-packages/matplotlib/pyplot.py:3236\u001b[0m, in \u001b[0;36mhist\u001b[0;34m(x, bins, range, density, weights, cumulative, bottom, histtype, align, orientation, rwidth, log, color, label, stacked, data, **kwargs)\u001b[0m\n\u001b[1;32m   3211\u001b[0m \u001b[38;5;129m@_copy_docstring_and_deprecators\u001b[39m(Axes\u001b[38;5;241m.\u001b[39mhist)\n\u001b[1;32m   3212\u001b[0m \u001b[38;5;28;01mdef\u001b[39;00m \u001b[38;5;21mhist\u001b[39m(\n\u001b[1;32m   3213\u001b[0m     x: ArrayLike \u001b[38;5;241m|\u001b[39m Sequence[ArrayLike],\n\u001b[0;32m   (...)\u001b[0m\n\u001b[1;32m   3234\u001b[0m     BarContainer \u001b[38;5;241m|\u001b[39m Polygon \u001b[38;5;241m|\u001b[39m \u001b[38;5;28mlist\u001b[39m[BarContainer \u001b[38;5;241m|\u001b[39m Polygon],\n\u001b[1;32m   3235\u001b[0m ]:\n\u001b[0;32m-> 3236\u001b[0m     \u001b[38;5;28;01mreturn\u001b[39;00m \u001b[43mgca\u001b[49m\u001b[43m(\u001b[49m\u001b[43m)\u001b[49m\u001b[38;5;241;43m.\u001b[39;49m\u001b[43mhist\u001b[49m\u001b[43m(\u001b[49m\n\u001b[1;32m   3237\u001b[0m \u001b[43m        \u001b[49m\u001b[43mx\u001b[49m\u001b[43m,\u001b[49m\n\u001b[1;32m   3238\u001b[0m \u001b[43m        \u001b[49m\u001b[43mbins\u001b[49m\u001b[38;5;241;43m=\u001b[39;49m\u001b[43mbins\u001b[49m\u001b[43m,\u001b[49m\n\u001b[1;32m   3239\u001b[0m \u001b[43m        \u001b[49m\u001b[38;5;28;43mrange\u001b[39;49m\u001b[38;5;241;43m=\u001b[39;49m\u001b[38;5;28;43mrange\u001b[39;49m\u001b[43m,\u001b[49m\n\u001b[1;32m   3240\u001b[0m \u001b[43m        \u001b[49m\u001b[43mdensity\u001b[49m\u001b[38;5;241;43m=\u001b[39;49m\u001b[43mdensity\u001b[49m\u001b[43m,\u001b[49m\n\u001b[1;32m   3241\u001b[0m \u001b[43m        \u001b[49m\u001b[43mweights\u001b[49m\u001b[38;5;241;43m=\u001b[39;49m\u001b[43mweights\u001b[49m\u001b[43m,\u001b[49m\n\u001b[1;32m   3242\u001b[0m \u001b[43m        \u001b[49m\u001b[43mcumulative\u001b[49m\u001b[38;5;241;43m=\u001b[39;49m\u001b[43mcumulative\u001b[49m\u001b[43m,\u001b[49m\n\u001b[1;32m   3243\u001b[0m \u001b[43m        \u001b[49m\u001b[43mbottom\u001b[49m\u001b[38;5;241;43m=\u001b[39;49m\u001b[43mbottom\u001b[49m\u001b[43m,\u001b[49m\n\u001b[1;32m   3244\u001b[0m \u001b[43m        \u001b[49m\u001b[43mhisttype\u001b[49m\u001b[38;5;241;43m=\u001b[39;49m\u001b[43mhisttype\u001b[49m\u001b[43m,\u001b[49m\n\u001b[1;32m   3245\u001b[0m \u001b[43m        \u001b[49m\u001b[43malign\u001b[49m\u001b[38;5;241;43m=\u001b[39;49m\u001b[43malign\u001b[49m\u001b[43m,\u001b[49m\n\u001b[1;32m   3246\u001b[0m \u001b[43m        \u001b[49m\u001b[43morientation\u001b[49m\u001b[38;5;241;43m=\u001b[39;49m\u001b[43morientation\u001b[49m\u001b[43m,\u001b[49m\n\u001b[1;32m   3247\u001b[0m \u001b[43m        \u001b[49m\u001b[43mrwidth\u001b[49m\u001b[38;5;241;43m=\u001b[39;49m\u001b[43mrwidth\u001b[49m\u001b[43m,\u001b[49m\n\u001b[1;32m   3248\u001b[0m \u001b[43m        \u001b[49m\u001b[43mlog\u001b[49m\u001b[38;5;241;43m=\u001b[39;49m\u001b[43mlog\u001b[49m\u001b[43m,\u001b[49m\n\u001b[1;32m   3249\u001b[0m \u001b[43m        \u001b[49m\u001b[43mcolor\u001b[49m\u001b[38;5;241;43m=\u001b[39;49m\u001b[43mcolor\u001b[49m\u001b[43m,\u001b[49m\n\u001b[1;32m   3250\u001b[0m \u001b[43m        \u001b[49m\u001b[43mlabel\u001b[49m\u001b[38;5;241;43m=\u001b[39;49m\u001b[43mlabel\u001b[49m\u001b[43m,\u001b[49m\n\u001b[1;32m   3251\u001b[0m \u001b[43m        \u001b[49m\u001b[43mstacked\u001b[49m\u001b[38;5;241;43m=\u001b[39;49m\u001b[43mstacked\u001b[49m\u001b[43m,\u001b[49m\n\u001b[1;32m   3252\u001b[0m \u001b[43m        \u001b[49m\u001b[38;5;241;43m*\u001b[39;49m\u001b[38;5;241;43m*\u001b[39;49m\u001b[43m(\u001b[49m\u001b[43m{\u001b[49m\u001b[38;5;124;43m\"\u001b[39;49m\u001b[38;5;124;43mdata\u001b[39;49m\u001b[38;5;124;43m\"\u001b[39;49m\u001b[43m:\u001b[49m\u001b[43m \u001b[49m\u001b[43mdata\u001b[49m\u001b[43m}\u001b[49m\u001b[43m \u001b[49m\u001b[38;5;28;43;01mif\u001b[39;49;00m\u001b[43m \u001b[49m\u001b[43mdata\u001b[49m\u001b[43m \u001b[49m\u001b[38;5;129;43;01mis\u001b[39;49;00m\u001b[43m \u001b[49m\u001b[38;5;129;43;01mnot\u001b[39;49;00m\u001b[43m \u001b[49m\u001b[38;5;28;43;01mNone\u001b[39;49;00m\u001b[43m \u001b[49m\u001b[38;5;28;43;01melse\u001b[39;49;00m\u001b[43m \u001b[49m\u001b[43m{\u001b[49m\u001b[43m}\u001b[49m\u001b[43m)\u001b[49m\u001b[43m,\u001b[49m\n\u001b[1;32m   3253\u001b[0m \u001b[43m        \u001b[49m\u001b[38;5;241;43m*\u001b[39;49m\u001b[38;5;241;43m*\u001b[39;49m\u001b[43mkwargs\u001b[49m\u001b[43m,\u001b[49m\n\u001b[1;32m   3254\u001b[0m \u001b[43m    \u001b[49m\u001b[43m)\u001b[49m\n",
      "File \u001b[0;32m/local/scratch/pypoetry_venv/spimprep-Dn9SW3r3-py3.11/lib/python3.11/site-packages/matplotlib/__init__.py:1465\u001b[0m, in \u001b[0;36m_preprocess_data.<locals>.inner\u001b[0;34m(ax, data, *args, **kwargs)\u001b[0m\n\u001b[1;32m   1462\u001b[0m \u001b[38;5;129m@functools\u001b[39m\u001b[38;5;241m.\u001b[39mwraps(func)\n\u001b[1;32m   1463\u001b[0m \u001b[38;5;28;01mdef\u001b[39;00m \u001b[38;5;21minner\u001b[39m(ax, \u001b[38;5;241m*\u001b[39margs, data\u001b[38;5;241m=\u001b[39m\u001b[38;5;28;01mNone\u001b[39;00m, \u001b[38;5;241m*\u001b[39m\u001b[38;5;241m*\u001b[39mkwargs):\n\u001b[1;32m   1464\u001b[0m     \u001b[38;5;28;01mif\u001b[39;00m data \u001b[38;5;129;01mis\u001b[39;00m \u001b[38;5;28;01mNone\u001b[39;00m:\n\u001b[0;32m-> 1465\u001b[0m         \u001b[38;5;28;01mreturn\u001b[39;00m \u001b[43mfunc\u001b[49m\u001b[43m(\u001b[49m\u001b[43max\u001b[49m\u001b[43m,\u001b[49m\u001b[43m \u001b[49m\u001b[38;5;241;43m*\u001b[39;49m\u001b[38;5;28;43mmap\u001b[39;49m\u001b[43m(\u001b[49m\u001b[43msanitize_sequence\u001b[49m\u001b[43m,\u001b[49m\u001b[43m \u001b[49m\u001b[43margs\u001b[49m\u001b[43m)\u001b[49m\u001b[43m,\u001b[49m\u001b[43m \u001b[49m\u001b[38;5;241;43m*\u001b[39;49m\u001b[38;5;241;43m*\u001b[39;49m\u001b[43mkwargs\u001b[49m\u001b[43m)\u001b[49m\n\u001b[1;32m   1467\u001b[0m     bound \u001b[38;5;241m=\u001b[39m new_sig\u001b[38;5;241m.\u001b[39mbind(ax, \u001b[38;5;241m*\u001b[39margs, \u001b[38;5;241m*\u001b[39m\u001b[38;5;241m*\u001b[39mkwargs)\n\u001b[1;32m   1468\u001b[0m     auto_label \u001b[38;5;241m=\u001b[39m (bound\u001b[38;5;241m.\u001b[39marguments\u001b[38;5;241m.\u001b[39mget(label_namer)\n\u001b[1;32m   1469\u001b[0m                   \u001b[38;5;129;01mor\u001b[39;00m bound\u001b[38;5;241m.\u001b[39mkwargs\u001b[38;5;241m.\u001b[39mget(label_namer))\n",
      "File \u001b[0;32m/local/scratch/pypoetry_venv/spimprep-Dn9SW3r3-py3.11/lib/python3.11/site-packages/matplotlib/axes/_axes.py:6775\u001b[0m, in \u001b[0;36mAxes.hist\u001b[0;34m(self, x, bins, range, density, weights, cumulative, bottom, histtype, align, orientation, rwidth, log, color, label, stacked, **kwargs)\u001b[0m\n\u001b[1;32m   6772\u001b[0m     stacked \u001b[38;5;241m=\u001b[39m \u001b[38;5;28;01mTrue\u001b[39;00m\n\u001b[1;32m   6774\u001b[0m \u001b[38;5;66;03m# Massage 'x' for processing.\u001b[39;00m\n\u001b[0;32m-> 6775\u001b[0m x \u001b[38;5;241m=\u001b[39m \u001b[43mcbook\u001b[49m\u001b[38;5;241;43m.\u001b[39;49m\u001b[43m_reshape_2D\u001b[49m\u001b[43m(\u001b[49m\u001b[43mx\u001b[49m\u001b[43m,\u001b[49m\u001b[43m \u001b[49m\u001b[38;5;124;43m'\u001b[39;49m\u001b[38;5;124;43mx\u001b[39;49m\u001b[38;5;124;43m'\u001b[39;49m\u001b[43m)\u001b[49m\n\u001b[1;32m   6776\u001b[0m nx \u001b[38;5;241m=\u001b[39m \u001b[38;5;28mlen\u001b[39m(x)  \u001b[38;5;66;03m# number of datasets\u001b[39;00m\n\u001b[1;32m   6778\u001b[0m \u001b[38;5;66;03m# Process unit information.  _process_unit_info sets the unit and\u001b[39;00m\n\u001b[1;32m   6779\u001b[0m \u001b[38;5;66;03m# converts the first dataset; then we convert each following dataset\u001b[39;00m\n\u001b[1;32m   6780\u001b[0m \u001b[38;5;66;03m# one at a time.\u001b[39;00m\n",
      "File \u001b[0;32m/local/scratch/pypoetry_venv/spimprep-Dn9SW3r3-py3.11/lib/python3.11/site-packages/matplotlib/cbook.py:1409\u001b[0m, in \u001b[0;36m_reshape_2D\u001b[0;34m(X, name)\u001b[0m\n\u001b[1;32m   1407\u001b[0m     \u001b[38;5;28;01melse\u001b[39;00m:\n\u001b[1;32m   1408\u001b[0m         is_1d \u001b[38;5;241m=\u001b[39m \u001b[38;5;28;01mFalse\u001b[39;00m\n\u001b[0;32m-> 1409\u001b[0m xi \u001b[38;5;241m=\u001b[39m np\u001b[38;5;241m.\u001b[39masanyarray(xi)\n\u001b[1;32m   1410\u001b[0m nd \u001b[38;5;241m=\u001b[39m np\u001b[38;5;241m.\u001b[39mndim(xi)\n\u001b[1;32m   1411\u001b[0m \u001b[38;5;28;01mif\u001b[39;00m nd \u001b[38;5;241m>\u001b[39m \u001b[38;5;241m1\u001b[39m:\n",
      "\u001b[0;31mKeyboardInterrupt\u001b[0m: "
     ]
    },
    {
     "data": {
      "image/png": "[encoded data removed]",
      "text/plain": [
       "<Figure size 640x480 with 1 Axes>"
      ]
     },
     "metadata": {},
     "output_type": "display_data"
    }
   ],
   "source": [
    "#can also grab the data from the zarr object, and use numpy to convert to numpy array\n",
    "ds4=np.array(z['/4'])\n",
    "plt.hist(ds4.flat)"
   ]
  },
  {
   "cell_type": "markdown",
   "id": "f862f88f-8c81-4a33-9138-d6c418595ef9",
   "metadata": {},
   "source": [
    "## Computing over each block, first try on synthetic data"
   ]
  },
  {
   "cell_type": "code",
   "execution_count": 52,
   "id": "fb47162a-f8ba-43af-85f4-f8f19626e735",
   "metadata": {},
   "outputs": [],
   "source": [
    "#we can use dask to also perform computations in parallel on each block\n",
    "# this is done easily by defining a function and using da.map_blocks()\n",
    "\n",
    "threshold=5000\n",
    "def threshold_vol(x):\n",
    "    mask=x>threshold\n",
    "    nvoxels=sum(mask.flat)\n",
    "    return np.array(nvoxels).reshape((1,1,1))\n",
    "\n"
   ]
  },
  {
   "cell_type": "code",
   "execution_count": 53,
   "id": "f1d6e4f6-aa3f-476e-8a01-d1b6a220f9a5",
   "metadata": {},
   "outputs": [
    {
     "data": {
      "text/plain": [
       "array([[[500567]]])"
      ]
     },
     "execution_count": 53,
     "metadata": {},
     "output_type": "execute_result"
    }
   ],
   "source": [
    "arr = 10000*np.random.random((100,100,100))\n",
    "threshold_vol(arr)"
   ]
  },
  {
   "cell_type": "code",
   "execution_count": 54,
   "id": "9ee12239-51da-47fc-b96b-61b8a7085cae",
   "metadata": {},
   "outputs": [],
   "source": [
    "#arr_nvox = darr_nvox.compute()"
   ]
  },
  {
   "cell_type": "code",
   "execution_count": 55,
   "id": "9e8c5c93-7dd4-4d5c-ad03-7cfab5bbebb8",
   "metadata": {},
   "outputs": [
    {
     "data": {
      "text/html": [
       "<table>\n",
       "    <tr>\n",
       "        <td>\n",
       "            <table style=\"border-collapse: collapse;\">\n",
       "                <thead>\n",
       "                    <tr>\n",
       "                        <td> </td>\n",
       "                        <th> Array </th>\n",
       "                        <th> Chunk </th>\n",
       "                    </tr>\n",
       "                </thead>\n",
       "                <tbody>\n",
       "                    \n",
       "                    <tr>\n",
       "                        <th> Bytes </th>\n",
       "                        <td> 7.63 MiB </td>\n",
       "                        <td> 7.81 kiB </td>\n",
       "                    </tr>\n",
       "                    \n",
       "                    <tr>\n",
       "                        <th> Shape </th>\n",
       "                        <td> (100, 100, 100) </td>\n",
       "                        <td> (10, 10, 10) </td>\n",
       "                    </tr>\n",
       "                    <tr>\n",
       "                        <th> Dask graph </th>\n",
       "                        <td colspan=\"2\"> 1000 chunks in 1 graph layer </td>\n",
       "                    </tr>\n",
       "                    <tr>\n",
       "                        <th> Data type </th>\n",
       "                        <td colspan=\"2\"> float64 numpy.ndarray </td>\n",
       "                    </tr>\n",
       "                </tbody>\n",
       "            </table>\n",
       "        </td>\n",
       "        <td>\n",
       "        <svg width=\"250\" height=\"240\" style=\"stroke:rgb(0,0,0);stroke-width:1\" >\n",
       "\n",
       "  <!-- Horizontal lines -->\n",
       "  <line x1=\"10\" y1=\"0\" x2=\"80\" y2=\"70\" style=\"stroke-width:2\" />\n",
       "  <line x1=\"10\" y1=\"12\" x2=\"80\" y2=\"82\" />\n",
       "  <line x1=\"10\" y1=\"24\" x2=\"80\" y2=\"94\" />\n",
       "  <line x1=\"10\" y1=\"36\" x2=\"80\" y2=\"106\" />\n",
       "  <line x1=\"10\" y1=\"48\" x2=\"80\" y2=\"118\" />\n",
       "  <line x1=\"10\" y1=\"60\" x2=\"80\" y2=\"130\" />\n",
       "  <line x1=\"10\" y1=\"72\" x2=\"80\" y2=\"142\" />\n",
       "  <line x1=\"10\" y1=\"84\" x2=\"80\" y2=\"154\" />\n",
       "  <line x1=\"10\" y1=\"96\" x2=\"80\" y2=\"166\" />\n",
       "  <line x1=\"10\" y1=\"108\" x2=\"80\" y2=\"178\" />\n",
       "  <line x1=\"10\" y1=\"120\" x2=\"80\" y2=\"190\" style=\"stroke-width:2\" />\n",
       "\n",
       "  <!-- Vertical lines -->\n",
       "  <line x1=\"10\" y1=\"0\" x2=\"10\" y2=\"120\" style=\"stroke-width:2\" />\n",
       "  <line x1=\"17\" y1=\"7\" x2=\"17\" y2=\"127\" />\n",
       "  <line x1=\"24\" y1=\"14\" x2=\"24\" y2=\"134\" />\n",
       "  <line x1=\"31\" y1=\"21\" x2=\"31\" y2=\"141\" />\n",
       "  <line x1=\"38\" y1=\"28\" x2=\"38\" y2=\"148\" />\n",
       "  <line x1=\"45\" y1=\"35\" x2=\"45\" y2=\"155\" />\n",
       "  <line x1=\"52\" y1=\"42\" x2=\"52\" y2=\"162\" />\n",
       "  <line x1=\"59\" y1=\"49\" x2=\"59\" y2=\"169\" />\n",
       "  <line x1=\"66\" y1=\"56\" x2=\"66\" y2=\"176\" />\n",
       "  <line x1=\"73\" y1=\"63\" x2=\"73\" y2=\"183\" />\n",
       "  <line x1=\"80\" y1=\"70\" x2=\"80\" y2=\"190\" style=\"stroke-width:2\" />\n",
       "\n",
       "  <!-- Colored Rectangle -->\n",
       "  <polygon points=\"10.0,0.0 80.58823529411765,70.58823529411765 80.58823529411765,190.58823529411765 10.0,120.0\" style=\"fill:#ECB172A0;stroke-width:0\"/>\n",
       "\n",
       "  <!-- Horizontal lines -->\n",
       "  <line x1=\"10\" y1=\"0\" x2=\"130\" y2=\"0\" style=\"stroke-width:2\" />\n",
       "  <line x1=\"17\" y1=\"7\" x2=\"137\" y2=\"7\" />\n",
       "  <line x1=\"24\" y1=\"14\" x2=\"144\" y2=\"14\" />\n",
       "  <line x1=\"31\" y1=\"21\" x2=\"151\" y2=\"21\" />\n",
       "  <line x1=\"38\" y1=\"28\" x2=\"158\" y2=\"28\" />\n",
       "  <line x1=\"45\" y1=\"35\" x2=\"165\" y2=\"35\" />\n",
       "  <line x1=\"52\" y1=\"42\" x2=\"172\" y2=\"42\" />\n",
       "  <line x1=\"59\" y1=\"49\" x2=\"179\" y2=\"49\" />\n",
       "  <line x1=\"66\" y1=\"56\" x2=\"186\" y2=\"56\" />\n",
       "  <line x1=\"73\" y1=\"63\" x2=\"193\" y2=\"63\" />\n",
       "  <line x1=\"80\" y1=\"70\" x2=\"200\" y2=\"70\" style=\"stroke-width:2\" />\n",
       "\n",
       "  <!-- Vertical lines -->\n",
       "  <line x1=\"10\" y1=\"0\" x2=\"80\" y2=\"70\" style=\"stroke-width:2\" />\n",
       "  <line x1=\"22\" y1=\"0\" x2=\"92\" y2=\"70\" />\n",
       "  <line x1=\"34\" y1=\"0\" x2=\"104\" y2=\"70\" />\n",
       "  <line x1=\"46\" y1=\"0\" x2=\"116\" y2=\"70\" />\n",
       "  <line x1=\"58\" y1=\"0\" x2=\"128\" y2=\"70\" />\n",
       "  <line x1=\"70\" y1=\"0\" x2=\"140\" y2=\"70\" />\n",
       "  <line x1=\"82\" y1=\"0\" x2=\"152\" y2=\"70\" />\n",
       "  <line x1=\"94\" y1=\"0\" x2=\"164\" y2=\"70\" />\n",
       "  <line x1=\"106\" y1=\"0\" x2=\"176\" y2=\"70\" />\n",
       "  <line x1=\"118\" y1=\"0\" x2=\"188\" y2=\"70\" />\n",
       "  <line x1=\"130\" y1=\"0\" x2=\"200\" y2=\"70\" style=\"stroke-width:2\" />\n",
       "\n",
       "  <!-- Colored Rectangle -->\n",
       "  <polygon points=\"10.0,0.0 130.0,0.0 200.58823529411765,70.58823529411765 80.58823529411765,70.58823529411765\" style=\"fill:#ECB172A0;stroke-width:0\"/>\n",
       "\n",
       "  <!-- Horizontal lines -->\n",
       "  <line x1=\"80\" y1=\"70\" x2=\"200\" y2=\"70\" style=\"stroke-width:2\" />\n",
       "  <line x1=\"80\" y1=\"82\" x2=\"200\" y2=\"82\" />\n",
       "  <line x1=\"80\" y1=\"94\" x2=\"200\" y2=\"94\" />\n",
       "  <line x1=\"80\" y1=\"106\" x2=\"200\" y2=\"106\" />\n",
       "  <line x1=\"80\" y1=\"118\" x2=\"200\" y2=\"118\" />\n",
       "  <line x1=\"80\" y1=\"130\" x2=\"200\" y2=\"130\" />\n",
       "  <line x1=\"80\" y1=\"142\" x2=\"200\" y2=\"142\" />\n",
       "  <line x1=\"80\" y1=\"154\" x2=\"200\" y2=\"154\" />\n",
       "  <line x1=\"80\" y1=\"166\" x2=\"200\" y2=\"166\" />\n",
       "  <line x1=\"80\" y1=\"178\" x2=\"200\" y2=\"178\" />\n",
       "  <line x1=\"80\" y1=\"190\" x2=\"200\" y2=\"190\" style=\"stroke-width:2\" />\n",
       "\n",
       "  <!-- Vertical lines -->\n",
       "  <line x1=\"80\" y1=\"70\" x2=\"80\" y2=\"190\" style=\"stroke-width:2\" />\n",
       "  <line x1=\"92\" y1=\"70\" x2=\"92\" y2=\"190\" />\n",
       "  <line x1=\"104\" y1=\"70\" x2=\"104\" y2=\"190\" />\n",
       "  <line x1=\"116\" y1=\"70\" x2=\"116\" y2=\"190\" />\n",
       "  <line x1=\"128\" y1=\"70\" x2=\"128\" y2=\"190\" />\n",
       "  <line x1=\"140\" y1=\"70\" x2=\"140\" y2=\"190\" />\n",
       "  <line x1=\"152\" y1=\"70\" x2=\"152\" y2=\"190\" />\n",
       "  <line x1=\"164\" y1=\"70\" x2=\"164\" y2=\"190\" />\n",
       "  <line x1=\"176\" y1=\"70\" x2=\"176\" y2=\"190\" />\n",
       "  <line x1=\"188\" y1=\"70\" x2=\"188\" y2=\"190\" />\n",
       "  <line x1=\"200\" y1=\"70\" x2=\"200\" y2=\"190\" style=\"stroke-width:2\" />\n",
       "\n",
       "  <!-- Colored Rectangle -->\n",
       "  <polygon points=\"80.58823529411765,70.58823529411765 200.58823529411765,70.58823529411765 200.58823529411765,190.58823529411765 80.58823529411765,190.58823529411765\" style=\"fill:#ECB172A0;stroke-width:0\"/>\n",
       "\n",
       "  <!-- Text -->\n",
       "  <text x=\"140.588235\" y=\"210.588235\" font-size=\"1.0rem\" font-weight=\"100\" text-anchor=\"middle\" >100</text>\n",
       "  <text x=\"220.588235\" y=\"130.588235\" font-size=\"1.0rem\" font-weight=\"100\" text-anchor=\"middle\" transform=\"rotate(-90,220.588235,130.588235)\">100</text>\n",
       "  <text x=\"35.294118\" y=\"175.294118\" font-size=\"1.0rem\" font-weight=\"100\" text-anchor=\"middle\" transform=\"rotate(45,35.294118,175.294118)\">100</text>\n",
       "</svg>\n",
       "        </td>\n",
       "    </tr>\n",
       "</table>"
      ],
      "text/plain": [
       "dask.array<array, shape=(100, 100, 100), dtype=float64, chunksize=(10, 10, 10), chunktype=numpy.ndarray>"
      ]
     },
     "execution_count": 55,
     "metadata": {},
     "output_type": "execute_result"
    }
   ],
   "source": [
    "darr = da.from_array(arr,(10,10,10))\n",
    "darr"
   ]
  },
  {
   "cell_type": "code",
   "execution_count": 56,
   "id": "9b8a49ff-fccb-43d2-86c4-561decbc6818",
   "metadata": {},
   "outputs": [
    {
     "data": {
      "text/html": [
       "<table>\n",
       "    <tr>\n",
       "        <td>\n",
       "            <table style=\"border-collapse: collapse;\">\n",
       "                <thead>\n",
       "                    <tr>\n",
       "                        <td> </td>\n",
       "                        <th> Array </th>\n",
       "                        <th> Chunk </th>\n",
       "                    </tr>\n",
       "                </thead>\n",
       "                <tbody>\n",
       "                    \n",
       "                    <tr>\n",
       "                        <th> Bytes </th>\n",
       "                        <td> 7.81 kiB </td>\n",
       "                        <td> 8 B </td>\n",
       "                    </tr>\n",
       "                    \n",
       "                    <tr>\n",
       "                        <th> Shape </th>\n",
       "                        <td> (10, 10, 10) </td>\n",
       "                        <td> (1, 1, 1) </td>\n",
       "                    </tr>\n",
       "                    <tr>\n",
       "                        <th> Dask graph </th>\n",
       "                        <td colspan=\"2\"> 1000 chunks in 2 graph layers </td>\n",
       "                    </tr>\n",
       "                    <tr>\n",
       "                        <th> Data type </th>\n",
       "                        <td colspan=\"2\"> int64 numpy.ndarray </td>\n",
       "                    </tr>\n",
       "                </tbody>\n",
       "            </table>\n",
       "        </td>\n",
       "        <td>\n",
       "        <svg width=\"250\" height=\"240\" style=\"stroke:rgb(0,0,0);stroke-width:1\" >\n",
       "\n",
       "  <!-- Horizontal lines -->\n",
       "  <line x1=\"10\" y1=\"0\" x2=\"80\" y2=\"70\" style=\"stroke-width:2\" />\n",
       "  <line x1=\"10\" y1=\"12\" x2=\"80\" y2=\"82\" />\n",
       "  <line x1=\"10\" y1=\"24\" x2=\"80\" y2=\"94\" />\n",
       "  <line x1=\"10\" y1=\"36\" x2=\"80\" y2=\"106\" />\n",
       "  <line x1=\"10\" y1=\"48\" x2=\"80\" y2=\"118\" />\n",
       "  <line x1=\"10\" y1=\"60\" x2=\"80\" y2=\"130\" />\n",
       "  <line x1=\"10\" y1=\"72\" x2=\"80\" y2=\"142\" />\n",
       "  <line x1=\"10\" y1=\"84\" x2=\"80\" y2=\"154\" />\n",
       "  <line x1=\"10\" y1=\"96\" x2=\"80\" y2=\"166\" />\n",
       "  <line x1=\"10\" y1=\"108\" x2=\"80\" y2=\"178\" />\n",
       "  <line x1=\"10\" y1=\"120\" x2=\"80\" y2=\"190\" style=\"stroke-width:2\" />\n",
       "\n",
       "  <!-- Vertical lines -->\n",
       "  <line x1=\"10\" y1=\"0\" x2=\"10\" y2=\"120\" style=\"stroke-width:2\" />\n",
       "  <line x1=\"17\" y1=\"7\" x2=\"17\" y2=\"127\" />\n",
       "  <line x1=\"24\" y1=\"14\" x2=\"24\" y2=\"134\" />\n",
       "  <line x1=\"31\" y1=\"21\" x2=\"31\" y2=\"141\" />\n",
       "  <line x1=\"38\" y1=\"28\" x2=\"38\" y2=\"148\" />\n",
       "  <line x1=\"45\" y1=\"35\" x2=\"45\" y2=\"155\" />\n",
       "  <line x1=\"52\" y1=\"42\" x2=\"52\" y2=\"162\" />\n",
       "  <line x1=\"59\" y1=\"49\" x2=\"59\" y2=\"169\" />\n",
       "  <line x1=\"66\" y1=\"56\" x2=\"66\" y2=\"176\" />\n",
       "  <line x1=\"73\" y1=\"63\" x2=\"73\" y2=\"183\" />\n",
       "  <line x1=\"80\" y1=\"70\" x2=\"80\" y2=\"190\" style=\"stroke-width:2\" />\n",
       "\n",
       "  <!-- Colored Rectangle -->\n",
       "  <polygon points=\"10.0,0.0 80.58823529411765,70.58823529411765 80.58823529411765,190.58823529411765 10.0,120.0\" style=\"fill:#ECB172A0;stroke-width:0\"/>\n",
       "\n",
       "  <!-- Horizontal lines -->\n",
       "  <line x1=\"10\" y1=\"0\" x2=\"130\" y2=\"0\" style=\"stroke-width:2\" />\n",
       "  <line x1=\"17\" y1=\"7\" x2=\"137\" y2=\"7\" />\n",
       "  <line x1=\"24\" y1=\"14\" x2=\"144\" y2=\"14\" />\n",
       "  <line x1=\"31\" y1=\"21\" x2=\"151\" y2=\"21\" />\n",
       "  <line x1=\"38\" y1=\"28\" x2=\"158\" y2=\"28\" />\n",
       "  <line x1=\"45\" y1=\"35\" x2=\"165\" y2=\"35\" />\n",
       "  <line x1=\"52\" y1=\"42\" x2=\"172\" y2=\"42\" />\n",
       "  <line x1=\"59\" y1=\"49\" x2=\"179\" y2=\"49\" />\n",
       "  <line x1=\"66\" y1=\"56\" x2=\"186\" y2=\"56\" />\n",
       "  <line x1=\"73\" y1=\"63\" x2=\"193\" y2=\"63\" />\n",
       "  <line x1=\"80\" y1=\"70\" x2=\"200\" y2=\"70\" style=\"stroke-width:2\" />\n",
       "\n",
       "  <!-- Vertical lines -->\n",
       "  <line x1=\"10\" y1=\"0\" x2=\"80\" y2=\"70\" style=\"stroke-width:2\" />\n",
       "  <line x1=\"22\" y1=\"0\" x2=\"92\" y2=\"70\" />\n",
       "  <line x1=\"34\" y1=\"0\" x2=\"104\" y2=\"70\" />\n",
       "  <line x1=\"46\" y1=\"0\" x2=\"116\" y2=\"70\" />\n",
       "  <line x1=\"58\" y1=\"0\" x2=\"128\" y2=\"70\" />\n",
       "  <line x1=\"70\" y1=\"0\" x2=\"140\" y2=\"70\" />\n",
       "  <line x1=\"82\" y1=\"0\" x2=\"152\" y2=\"70\" />\n",
       "  <line x1=\"94\" y1=\"0\" x2=\"164\" y2=\"70\" />\n",
       "  <line x1=\"106\" y1=\"0\" x2=\"176\" y2=\"70\" />\n",
       "  <line x1=\"118\" y1=\"0\" x2=\"188\" y2=\"70\" />\n",
       "  <line x1=\"130\" y1=\"0\" x2=\"200\" y2=\"70\" style=\"stroke-width:2\" />\n",
       "\n",
       "  <!-- Colored Rectangle -->\n",
       "  <polygon points=\"10.0,0.0 130.0,0.0 200.58823529411765,70.58823529411765 80.58823529411765,70.58823529411765\" style=\"fill:#ECB172A0;stroke-width:0\"/>\n",
       "\n",
       "  <!-- Horizontal lines -->\n",
       "  <line x1=\"80\" y1=\"70\" x2=\"200\" y2=\"70\" style=\"stroke-width:2\" />\n",
       "  <line x1=\"80\" y1=\"82\" x2=\"200\" y2=\"82\" />\n",
       "  <line x1=\"80\" y1=\"94\" x2=\"200\" y2=\"94\" />\n",
       "  <line x1=\"80\" y1=\"106\" x2=\"200\" y2=\"106\" />\n",
       "  <line x1=\"80\" y1=\"118\" x2=\"200\" y2=\"118\" />\n",
       "  <line x1=\"80\" y1=\"130\" x2=\"200\" y2=\"130\" />\n",
       "  <line x1=\"80\" y1=\"142\" x2=\"200\" y2=\"142\" />\n",
       "  <line x1=\"80\" y1=\"154\" x2=\"200\" y2=\"154\" />\n",
       "  <line x1=\"80\" y1=\"166\" x2=\"200\" y2=\"166\" />\n",
       "  <line x1=\"80\" y1=\"178\" x2=\"200\" y2=\"178\" />\n",
       "  <line x1=\"80\" y1=\"190\" x2=\"200\" y2=\"190\" style=\"stroke-width:2\" />\n",
       "\n",
       "  <!-- Vertical lines -->\n",
       "  <line x1=\"80\" y1=\"70\" x2=\"80\" y2=\"190\" style=\"stroke-width:2\" />\n",
       "  <line x1=\"92\" y1=\"70\" x2=\"92\" y2=\"190\" />\n",
       "  <line x1=\"104\" y1=\"70\" x2=\"104\" y2=\"190\" />\n",
       "  <line x1=\"116\" y1=\"70\" x2=\"116\" y2=\"190\" />\n",
       "  <line x1=\"128\" y1=\"70\" x2=\"128\" y2=\"190\" />\n",
       "  <line x1=\"140\" y1=\"70\" x2=\"140\" y2=\"190\" />\n",
       "  <line x1=\"152\" y1=\"70\" x2=\"152\" y2=\"190\" />\n",
       "  <line x1=\"164\" y1=\"70\" x2=\"164\" y2=\"190\" />\n",
       "  <line x1=\"176\" y1=\"70\" x2=\"176\" y2=\"190\" />\n",
       "  <line x1=\"188\" y1=\"70\" x2=\"188\" y2=\"190\" />\n",
       "  <line x1=\"200\" y1=\"70\" x2=\"200\" y2=\"190\" style=\"stroke-width:2\" />\n",
       "\n",
       "  <!-- Colored Rectangle -->\n",
       "  <polygon points=\"80.58823529411765,70.58823529411765 200.58823529411765,70.58823529411765 200.58823529411765,190.58823529411765 80.58823529411765,190.58823529411765\" style=\"fill:#ECB172A0;stroke-width:0\"/>\n",
       "\n",
       "  <!-- Text -->\n",
       "  <text x=\"140.588235\" y=\"210.588235\" font-size=\"1.0rem\" font-weight=\"100\" text-anchor=\"middle\" >10</text>\n",
       "  <text x=\"220.588235\" y=\"130.588235\" font-size=\"1.0rem\" font-weight=\"100\" text-anchor=\"middle\" transform=\"rotate(0,220.588235,130.588235)\">10</text>\n",
       "  <text x=\"35.294118\" y=\"175.294118\" font-size=\"1.0rem\" font-weight=\"100\" text-anchor=\"middle\" transform=\"rotate(45,35.294118,175.294118)\">10</text>\n",
       "</svg>\n",
       "        </td>\n",
       "    </tr>\n",
       "</table>"
      ],
      "text/plain": [
       "dask.array<threshold_vol, shape=(10, 10, 10), dtype=int64, chunksize=(1, 1, 1), chunktype=numpy.ndarray>"
      ]
     },
     "execution_count": 56,
     "metadata": {},
     "output_type": "execute_result"
    }
   ],
   "source": [
    "darr_nvox  = darr.map_blocks(threshold_vol,chunks=(1,1,1))\n",
    "darr_nvox"
   ]
  },
  {
   "cell_type": "code",
   "execution_count": 57,
   "id": "e5abb600-c175-4b03-902d-879c7f14d5ec",
   "metadata": {},
   "outputs": [
    {
     "data": {
      "text/plain": [
       "<matplotlib.image.AxesImage at 0x7f93db619e10>"
      ]
     },
     "execution_count": 57,
     "metadata": {},
     "output_type": "execute_result"
    },
    {
     "data": {
      "image/png": "[encoded data removed]",
      "text/plain": [
       "<Figure size 640x480 with 1 Axes>"
      ]
     },
     "metadata": {},
     "output_type": "display_data"
    }
   ],
   "source": [
    "plt.imshow(darr_nvox.compute()[0,:,:])"
   ]
  },
  {
   "cell_type": "markdown",
   "id": "1a91f21a-ee8d-4d17-acda-866fa0fa9d42",
   "metadata": {},
   "source": [
    "## Now try on real data"
   ]
  },
  {
   "cell_type": "code",
   "execution_count": 58,
   "id": "60b8195c-a42a-4008-a478-8d1fa8e565d7",
   "metadata": {},
   "outputs": [],
   "source": [
    "#now try on our actual data \n",
    "darr = da.from_zarr(zarr_file,component='/0')\n",
    "\n",
    "#we grab a smaller set of data for illustrative purposes (4 slices)\n",
    "# and also rechunk to 1x100x100 chunks\n",
    "darr_nvox = darr[28:32,:,:].rechunk(chunks=(1,100,100)).map_blocks(threshold_vol,chunks=(1,1,1))"
   ]
  },
  {
   "cell_type": "code",
   "execution_count": 186,
   "id": "50937282-bbef-489a-b557-66af98112c35",
   "metadata": {},
   "outputs": [
    {
     "data": {
      "text/html": [
       "<table>\n",
       "    <tr>\n",
       "        <td>\n",
       "            <table style=\"border-collapse: collapse;\">\n",
       "                <thead>\n",
       "                    <tr>\n",
       "                        <td> </td>\n",
       "                        <th> Array </th>\n",
       "                        <th> Chunk </th>\n",
       "                    </tr>\n",
       "                </thead>\n",
       "                <tbody>\n",
       "                    \n",
       "                    <tr>\n",
       "                        <th> Bytes </th>\n",
       "                        <td> 137.25 kiB </td>\n",
       "                        <td> 8 B </td>\n",
       "                    </tr>\n",
       "                    \n",
       "                    <tr>\n",
       "                        <th> Shape </th>\n",
       "                        <td> (4, 72, 61) </td>\n",
       "                        <td> (1, 1, 1) </td>\n",
       "                    </tr>\n",
       "                    <tr>\n",
       "                        <th> Dask graph </th>\n",
       "                        <td colspan=\"2\"> 17568 chunks in 5 graph layers </td>\n",
       "                    </tr>\n",
       "                    <tr>\n",
       "                        <th> Data type </th>\n",
       "                        <td colspan=\"2\"> int64 numpy.ndarray </td>\n",
       "                    </tr>\n",
       "                </tbody>\n",
       "            </table>\n",
       "        </td>\n",
       "        <td>\n",
       "        <svg width=\"182\" height=\"190\" style=\"stroke:rgb(0,0,0);stroke-width:1\" >\n",
       "\n",
       "  <!-- Horizontal lines -->\n",
       "  <line x1=\"10\" y1=\"0\" x2=\"30\" y2=\"20\" style=\"stroke-width:2\" />\n",
       "  <line x1=\"10\" y1=\"5\" x2=\"30\" y2=\"25\" />\n",
       "  <line x1=\"10\" y1=\"11\" x2=\"30\" y2=\"32\" />\n",
       "  <line x1=\"10\" y1=\"18\" x2=\"30\" y2=\"39\" />\n",
       "  <line x1=\"10\" y1=\"25\" x2=\"30\" y2=\"45\" />\n",
       "  <line x1=\"10\" y1=\"30\" x2=\"30\" y2=\"50\" />\n",
       "  <line x1=\"10\" y1=\"36\" x2=\"30\" y2=\"57\" />\n",
       "  <line x1=\"10\" y1=\"43\" x2=\"30\" y2=\"64\" />\n",
       "  <line x1=\"10\" y1=\"50\" x2=\"30\" y2=\"70\" />\n",
       "  <line x1=\"10\" y1=\"56\" x2=\"30\" y2=\"77\" />\n",
       "  <line x1=\"10\" y1=\"61\" x2=\"30\" y2=\"82\" />\n",
       "  <line x1=\"10\" y1=\"68\" x2=\"30\" y2=\"89\" />\n",
       "  <line x1=\"10\" y1=\"75\" x2=\"30\" y2=\"95\" />\n",
       "  <line x1=\"10\" y1=\"81\" x2=\"30\" y2=\"102\" />\n",
       "  <line x1=\"10\" y1=\"88\" x2=\"30\" y2=\"109\" />\n",
       "  <line x1=\"10\" y1=\"93\" x2=\"30\" y2=\"114\" />\n",
       "  <line x1=\"10\" y1=\"100\" x2=\"30\" y2=\"120\" />\n",
       "  <line x1=\"10\" y1=\"106\" x2=\"30\" y2=\"127\" />\n",
       "  <line x1=\"10\" y1=\"113\" x2=\"30\" y2=\"134\" />\n",
       "  <line x1=\"10\" y1=\"120\" x2=\"30\" y2=\"140\" style=\"stroke-width:2\" />\n",
       "\n",
       "  <!-- Vertical lines -->\n",
       "  <line x1=\"10\" y1=\"0\" x2=\"10\" y2=\"120\" style=\"stroke-width:2\" />\n",
       "  <line x1=\"15\" y1=\"5\" x2=\"15\" y2=\"125\" />\n",
       "  <line x1=\"20\" y1=\"10\" x2=\"20\" y2=\"130\" />\n",
       "  <line x1=\"25\" y1=\"15\" x2=\"25\" y2=\"135\" />\n",
       "  <line x1=\"30\" y1=\"20\" x2=\"30\" y2=\"140\" style=\"stroke-width:2\" />\n",
       "\n",
       "  <!-- Colored Rectangle -->\n",
       "  <polygon points=\"10.0,0.0 30.673428547373774,20.673428547373774 30.673428547373774,140.67342854737376 10.0,120.0\" style=\"fill:#8B4903A0;stroke-width:0\"/>\n",
       "\n",
       "  <!-- Horizontal lines -->\n",
       "  <line x1=\"10\" y1=\"0\" x2=\"111\" y2=\"0\" style=\"stroke-width:2\" />\n",
       "  <line x1=\"15\" y1=\"5\" x2=\"116\" y2=\"5\" />\n",
       "  <line x1=\"20\" y1=\"10\" x2=\"122\" y2=\"10\" />\n",
       "  <line x1=\"25\" y1=\"15\" x2=\"127\" y2=\"15\" />\n",
       "  <line x1=\"30\" y1=\"20\" x2=\"132\" y2=\"20\" style=\"stroke-width:2\" />\n",
       "\n",
       "  <!-- Vertical lines -->\n",
       "  <line x1=\"10\" y1=\"0\" x2=\"30\" y2=\"20\" style=\"stroke-width:2\" />\n",
       "  <line x1=\"15\" y1=\"0\" x2=\"35\" y2=\"20\" />\n",
       "  <line x1=\"20\" y1=\"0\" x2=\"40\" y2=\"20\" />\n",
       "  <line x1=\"25\" y1=\"0\" x2=\"45\" y2=\"20\" />\n",
       "  <line x1=\"30\" y1=\"0\" x2=\"50\" y2=\"20\" />\n",
       "  <line x1=\"36\" y1=\"0\" x2=\"57\" y2=\"20\" />\n",
       "  <line x1=\"41\" y1=\"0\" x2=\"62\" y2=\"20\" />\n",
       "  <line x1=\"46\" y1=\"0\" x2=\"67\" y2=\"20\" />\n",
       "  <line x1=\"51\" y1=\"0\" x2=\"72\" y2=\"20\" />\n",
       "  <line x1=\"56\" y1=\"0\" x2=\"77\" y2=\"20\" />\n",
       "  <line x1=\"63\" y1=\"0\" x2=\"84\" y2=\"20\" />\n",
       "  <line x1=\"68\" y1=\"0\" x2=\"89\" y2=\"20\" />\n",
       "  <line x1=\"73\" y1=\"0\" x2=\"94\" y2=\"20\" />\n",
       "  <line x1=\"78\" y1=\"0\" x2=\"99\" y2=\"20\" />\n",
       "  <line x1=\"83\" y1=\"0\" x2=\"104\" y2=\"20\" />\n",
       "  <line x1=\"90\" y1=\"0\" x2=\"110\" y2=\"20\" />\n",
       "  <line x1=\"95\" y1=\"0\" x2=\"115\" y2=\"20\" />\n",
       "  <line x1=\"100\" y1=\"0\" x2=\"120\" y2=\"20\" />\n",
       "  <line x1=\"105\" y1=\"0\" x2=\"125\" y2=\"20\" />\n",
       "  <line x1=\"111\" y1=\"0\" x2=\"132\" y2=\"20\" style=\"stroke-width:2\" />\n",
       "\n",
       "  <!-- Colored Rectangle -->\n",
       "  <polygon points=\"10.0,0.0 111.66666666666667,0.0 132.34009521404045,20.673428547373774 30.673428547373774,20.673428547373774\" style=\"fill:#8B4903A0;stroke-width:0\"/>\n",
       "\n",
       "  <!-- Horizontal lines -->\n",
       "  <line x1=\"30\" y1=\"20\" x2=\"132\" y2=\"20\" style=\"stroke-width:2\" />\n",
       "  <line x1=\"30\" y1=\"25\" x2=\"132\" y2=\"25\" />\n",
       "  <line x1=\"30\" y1=\"32\" x2=\"132\" y2=\"32\" />\n",
       "  <line x1=\"30\" y1=\"39\" x2=\"132\" y2=\"39\" />\n",
       "  <line x1=\"30\" y1=\"45\" x2=\"132\" y2=\"45\" />\n",
       "  <line x1=\"30\" y1=\"50\" x2=\"132\" y2=\"50\" />\n",
       "  <line x1=\"30\" y1=\"57\" x2=\"132\" y2=\"57\" />\n",
       "  <line x1=\"30\" y1=\"64\" x2=\"132\" y2=\"64\" />\n",
       "  <line x1=\"30\" y1=\"70\" x2=\"132\" y2=\"70\" />\n",
       "  <line x1=\"30\" y1=\"77\" x2=\"132\" y2=\"77\" />\n",
       "  <line x1=\"30\" y1=\"82\" x2=\"132\" y2=\"82\" />\n",
       "  <line x1=\"30\" y1=\"89\" x2=\"132\" y2=\"89\" />\n",
       "  <line x1=\"30\" y1=\"95\" x2=\"132\" y2=\"95\" />\n",
       "  <line x1=\"30\" y1=\"102\" x2=\"132\" y2=\"102\" />\n",
       "  <line x1=\"30\" y1=\"109\" x2=\"132\" y2=\"109\" />\n",
       "  <line x1=\"30\" y1=\"114\" x2=\"132\" y2=\"114\" />\n",
       "  <line x1=\"30\" y1=\"120\" x2=\"132\" y2=\"120\" />\n",
       "  <line x1=\"30\" y1=\"127\" x2=\"132\" y2=\"127\" />\n",
       "  <line x1=\"30\" y1=\"134\" x2=\"132\" y2=\"134\" />\n",
       "  <line x1=\"30\" y1=\"140\" x2=\"132\" y2=\"140\" style=\"stroke-width:2\" />\n",
       "\n",
       "  <!-- Vertical lines -->\n",
       "  <line x1=\"30\" y1=\"20\" x2=\"30\" y2=\"140\" style=\"stroke-width:2\" />\n",
       "  <line x1=\"35\" y1=\"20\" x2=\"35\" y2=\"140\" />\n",
       "  <line x1=\"40\" y1=\"20\" x2=\"40\" y2=\"140\" />\n",
       "  <line x1=\"45\" y1=\"20\" x2=\"45\" y2=\"140\" />\n",
       "  <line x1=\"50\" y1=\"20\" x2=\"50\" y2=\"140\" />\n",
       "  <line x1=\"57\" y1=\"20\" x2=\"57\" y2=\"140\" />\n",
       "  <line x1=\"62\" y1=\"20\" x2=\"62\" y2=\"140\" />\n",
       "  <line x1=\"67\" y1=\"20\" x2=\"67\" y2=\"140\" />\n",
       "  <line x1=\"72\" y1=\"20\" x2=\"72\" y2=\"140\" />\n",
       "  <line x1=\"77\" y1=\"20\" x2=\"77\" y2=\"140\" />\n",
       "  <line x1=\"84\" y1=\"20\" x2=\"84\" y2=\"140\" />\n",
       "  <line x1=\"89\" y1=\"20\" x2=\"89\" y2=\"140\" />\n",
       "  <line x1=\"94\" y1=\"20\" x2=\"94\" y2=\"140\" />\n",
       "  <line x1=\"99\" y1=\"20\" x2=\"99\" y2=\"140\" />\n",
       "  <line x1=\"104\" y1=\"20\" x2=\"104\" y2=\"140\" />\n",
       "  <line x1=\"110\" y1=\"20\" x2=\"110\" y2=\"140\" />\n",
       "  <line x1=\"115\" y1=\"20\" x2=\"115\" y2=\"140\" />\n",
       "  <line x1=\"120\" y1=\"20\" x2=\"120\" y2=\"140\" />\n",
       "  <line x1=\"125\" y1=\"20\" x2=\"125\" y2=\"140\" />\n",
       "  <line x1=\"132\" y1=\"20\" x2=\"132\" y2=\"140\" style=\"stroke-width:2\" />\n",
       "\n",
       "  <!-- Colored Rectangle -->\n",
       "  <polygon points=\"30.673428547373774,20.673428547373774 132.34009521404045,20.673428547373774 132.34009521404045,140.67342854737376 30.673428547373774,140.67342854737376\" style=\"fill:#8B4903A0;stroke-width:0\"/>\n",
       "\n",
       "  <!-- Text -->\n",
       "  <text x=\"81.506762\" y=\"160.673429\" font-size=\"1.0rem\" font-weight=\"100\" text-anchor=\"middle\" >61</text>\n",
       "  <text x=\"152.340095\" y=\"80.673429\" font-size=\"1.0rem\" font-weight=\"100\" text-anchor=\"middle\" transform=\"rotate(0,152.340095,80.673429)\">72</text>\n",
       "  <text x=\"10.336714\" y=\"150.336714\" font-size=\"1.0rem\" font-weight=\"100\" text-anchor=\"middle\" transform=\"rotate(45,10.336714,150.336714)\">4</text>\n",
       "</svg>\n",
       "        </td>\n",
       "    </tr>\n",
       "</table>"
      ],
      "text/plain": [
       "dask.array<threshold_vol, shape=(4, 72, 61), dtype=int64, chunksize=(1, 1, 1), chunktype=numpy.ndarray>"
      ]
     },
     "execution_count": 186,
     "metadata": {},
     "output_type": "execute_result"
    }
   ],
   "source": [
    "darr_nvox"
   ]
  },
  {
   "cell_type": "code",
   "execution_count": 187,
   "id": "1d33765c-130b-49bc-b161-c8daf813edba",
   "metadata": {},
   "outputs": [
    {
     "name": "stdout",
     "output_type": "stream",
     "text": [
      "[########################################] | 100% Completed | 48.57 s\n"
     ]
    }
   ],
   "source": [
    "#the result is small enough to be held in memory, so lets compute\n",
    "# add a progress bar too\n",
    "from dask.diagnostics import ProgressBar\n",
    "\n",
    "with ProgressBar():\n",
    "    arr_nvox=darr_nvox.compute()"
   ]
  },
  {
   "cell_type": "code",
   "execution_count": 188,
   "id": "48abe4f2-ec57-464f-b1c5-2a8d5caeb1f9",
   "metadata": {},
   "outputs": [
    {
     "data": {
      "text/plain": [
       "<matplotlib.image.AxesImage at 0x7fe3d508eaf0>"
      ]
     },
     "execution_count": 188,
     "metadata": {},
     "output_type": "execute_result"
    },
    {
     "data": {
      "image/png": "[encoded data removed]",
      "text/plain": [
       "<Figure size 640x480 with 1 Axes>"
      ]
     },
     "metadata": {},
     "output_type": "display_data"
    }
   ],
   "source": [
    "plt.imshow(arr_nvox[2,:,:])"
   ]
  },
  {
   "cell_type": "markdown",
   "id": "fefb864d-6535-4959-b460-52f0a0eab8bc",
   "metadata": {},
   "source": [
    "## Let's try something more sophisticated\n",
    "\n"
   ]
  },
  {
   "cell_type": "code",
   "execution_count": 59,
   "id": "8620cc18-5981-4af6-be94-48cc98eee91e",
   "metadata": {},
   "outputs": [
    {
     "name": "stdout",
     "output_type": "stream",
     "text": [
      "There are 4 registered models for 'StarDist2D':\n",
      "\n",
      "Name                  Alias(es)\n",
      "────                  ─────────\n",
      "'2D_versatile_fluo'   'Versatile (fluorescent nuclei)'\n",
      "'2D_versatile_he'     'Versatile (H&E nuclei)'\n",
      "'2D_paper_dsb2018'    'DSB 2018 (from StarDist 2D paper)'\n",
      "'2D_demo'             None\n",
      "Found model '2D_versatile_fluo' for 'StarDist2D'.\n",
      "Loading network weights from 'weights_best.h5'.\n",
      "Loading thresholds from 'thresholds.json'.\n",
      "Using default values: prob_thresh=0.479071, nms_thresh=0.3.\n"
     ]
    }
   ],
   "source": [
    "from stardist.models import StarDist2D\n",
    "\n",
    "# prints a list of available models\n",
    "StarDist2D.from_pretrained()\n",
    "\n",
    "# creates a pretrained model\n",
    "model = StarDist2D.from_pretrained('2D_versatile_fluo')"
   ]
  },
  {
   "cell_type": "code",
   "execution_count": 71,
   "id": "0df4acb9-204b-4b16-9c77-cdc079bb6fd4",
   "metadata": {},
   "outputs": [
    {
     "data": {
      "text/plain": [
       "Text(0.5, 1.0, 'prediction + input overlay')"
      ]
     },
     "execution_count": 71,
     "metadata": {},
     "output_type": "execute_result"
    },
    {
     "data": {
      "image/png": "[encoded data removed]",
      "text/plain": [
       "<Figure size 640x480 with 2 Axes>"
      ]
     },
     "metadata": {},
     "output_type": "display_data"
    }
   ],
   "source": [
    "#try running the model on a slice\n",
    "from stardist.plot import render_label\n",
    "from csbdeep.utils import normalize\n",
    "import matplotlib.pyplot as plt\n",
    "\n",
    "img = darr[30,3000:5000,3000:5000].squeeze().compute()\n",
    "\n",
    "labels, _ = model.predict_instances(normalize(img))\n",
    "\n",
    "plt.subplot(1,2,1)\n",
    "plt.imshow(img, cmap=\"gray\")\n",
    "plt.axis(\"off\")\n",
    "plt.title(\"input image\")\n",
    "\n",
    "plt.subplot(1,2,2)\n",
    "plt.imshow(render_label(labels, img=img))\n",
    "plt.axis(\"off\")\n",
    "plt.title(\"prediction + input overlay\")"
   ]
  },
  {
   "cell_type": "code",
   "execution_count": 72,
   "id": "d7122e34-9628-4718-80d3-7127950e7e84",
   "metadata": {},
   "outputs": [],
   "source": [
    "# note: _ contains coords, points, prob)\n"
   ]
  },
  {
   "cell_type": "code",
   "execution_count": 84,
   "id": "a60c822d-2ef9-4faa-86c2-a253e335bd83",
   "metadata": {},
   "outputs": [],
   "source": [
    "chunkdim=256\n",
    "max_intensity=30000\n",
    "\n",
    "#now let's try with dask\n",
    "def stardist_2d(x):\n",
    "    print(x.shape)\n",
    "    #predict_instances needs to be \n",
    "    labels,_=model.predict_instances(np.clip(x.reshape((x.shape[1],x.shape[2]))/max_intensity,0,1))\n",
    "    return labels.reshape(x.shape)\n",
    "    \n"
   ]
  },
  {
   "cell_type": "code",
   "execution_count": 85,
   "id": "1182da56-d33a-4394-a463-1dff4ae9fae8",
   "metadata": {},
   "outputs": [
    {
     "name": "stdout",
     "output_type": "stream",
     "text": [
      "(0, 0, 0)\n"
     ]
    },
    {
     "data": {
      "text/html": [
       "<table>\n",
       "    <tr>\n",
       "        <td>\n",
       "            <table style=\"border-collapse: collapse;\">\n",
       "                <thead>\n",
       "                    <tr>\n",
       "                        <td> </td>\n",
       "                        <th> Array </th>\n",
       "                        <th> Chunk </th>\n",
       "                    </tr>\n",
       "                </thead>\n",
       "                <tbody>\n",
       "                    \n",
       "                    <tr>\n",
       "                        <th> Bytes </th>\n",
       "                        <td> 82.71 MiB </td>\n",
       "                        <td> 128.00 kiB </td>\n",
       "                    </tr>\n",
       "                    \n",
       "                    <tr>\n",
       "                        <th> Shape </th>\n",
       "                        <td> (1, 7169, 6049) </td>\n",
       "                        <td> (1, 256, 256) </td>\n",
       "                    </tr>\n",
       "                    <tr>\n",
       "                        <th> Dask graph </th>\n",
       "                        <td colspan=\"2\"> 696 chunks in 5 graph layers </td>\n",
       "                    </tr>\n",
       "                    <tr>\n",
       "                        <th> Data type </th>\n",
       "                        <td colspan=\"2\"> uint16 numpy.ndarray </td>\n",
       "                    </tr>\n",
       "                </tbody>\n",
       "            </table>\n",
       "        </td>\n",
       "        <td>\n",
       "        <svg width=\"176\" height=\"184\" style=\"stroke:rgb(0,0,0);stroke-width:1\" >\n",
       "\n",
       "  <!-- Horizontal lines -->\n",
       "  <line x1=\"10\" y1=\"0\" x2=\"24\" y2=\"14\" style=\"stroke-width:2\" />\n",
       "  <line x1=\"10\" y1=\"4\" x2=\"24\" y2=\"19\" />\n",
       "  <line x1=\"10\" y1=\"12\" x2=\"24\" y2=\"27\" />\n",
       "  <line x1=\"10\" y1=\"17\" x2=\"24\" y2=\"32\" />\n",
       "  <line x1=\"10\" y1=\"25\" x2=\"24\" y2=\"40\" />\n",
       "  <line x1=\"10\" y1=\"29\" x2=\"24\" y2=\"44\" />\n",
       "  <line x1=\"10\" y1=\"38\" x2=\"24\" y2=\"53\" />\n",
       "  <line x1=\"10\" y1=\"42\" x2=\"24\" y2=\"57\" />\n",
       "  <line x1=\"10\" y1=\"51\" x2=\"24\" y2=\"66\" />\n",
       "  <line x1=\"10\" y1=\"55\" x2=\"24\" y2=\"70\" />\n",
       "  <line x1=\"10\" y1=\"64\" x2=\"24\" y2=\"79\" />\n",
       "  <line x1=\"10\" y1=\"68\" x2=\"24\" y2=\"83\" />\n",
       "  <line x1=\"10\" y1=\"77\" x2=\"24\" y2=\"92\" />\n",
       "  <line x1=\"10\" y1=\"81\" x2=\"24\" y2=\"96\" />\n",
       "  <line x1=\"10\" y1=\"89\" x2=\"24\" y2=\"104\" />\n",
       "  <line x1=\"10\" y1=\"94\" x2=\"24\" y2=\"109\" />\n",
       "  <line x1=\"10\" y1=\"102\" x2=\"24\" y2=\"117\" />\n",
       "  <line x1=\"10\" y1=\"107\" x2=\"24\" y2=\"122\" />\n",
       "  <line x1=\"10\" y1=\"115\" x2=\"24\" y2=\"130\" />\n",
       "  <line x1=\"10\" y1=\"120\" x2=\"24\" y2=\"134\" style=\"stroke-width:2\" />\n",
       "\n",
       "  <!-- Vertical lines -->\n",
       "  <line x1=\"10\" y1=\"0\" x2=\"10\" y2=\"120\" style=\"stroke-width:2\" />\n",
       "  <line x1=\"24\" y1=\"14\" x2=\"24\" y2=\"134\" style=\"stroke-width:2\" />\n",
       "\n",
       "  <!-- Colored Rectangle -->\n",
       "  <polygon points=\"10.0,0.0 24.9485979497544,14.948597949754403 24.9485979497544,134.9485979497544 10.0,120.0\" style=\"fill:#8B4903A0;stroke-width:0\"/>\n",
       "\n",
       "  <!-- Horizontal lines -->\n",
       "  <line x1=\"10\" y1=\"0\" x2=\"111\" y2=\"0\" style=\"stroke-width:2\" />\n",
       "  <line x1=\"24\" y1=\"14\" x2=\"126\" y2=\"14\" style=\"stroke-width:2\" />\n",
       "\n",
       "  <!-- Vertical lines -->\n",
       "  <line x1=\"10\" y1=\"0\" x2=\"24\" y2=\"14\" style=\"stroke-width:2\" />\n",
       "  <line x1=\"14\" y1=\"0\" x2=\"29\" y2=\"14\" />\n",
       "  <line x1=\"18\" y1=\"0\" x2=\"33\" y2=\"14\" />\n",
       "  <line x1=\"22\" y1=\"0\" x2=\"37\" y2=\"14\" />\n",
       "  <line x1=\"31\" y1=\"0\" x2=\"46\" y2=\"14\" />\n",
       "  <line x1=\"35\" y1=\"0\" x2=\"50\" y2=\"14\" />\n",
       "  <line x1=\"39\" y1=\"0\" x2=\"54\" y2=\"14\" />\n",
       "  <line x1=\"44\" y1=\"0\" x2=\"59\" y2=\"14\" />\n",
       "  <line x1=\"52\" y1=\"0\" x2=\"67\" y2=\"14\" />\n",
       "  <line x1=\"57\" y1=\"0\" x2=\"72\" y2=\"14\" />\n",
       "  <line x1=\"61\" y1=\"0\" x2=\"76\" y2=\"14\" />\n",
       "  <line x1=\"65\" y1=\"0\" x2=\"80\" y2=\"14\" />\n",
       "  <line x1=\"74\" y1=\"0\" x2=\"89\" y2=\"14\" />\n",
       "  <line x1=\"78\" y1=\"0\" x2=\"93\" y2=\"14\" />\n",
       "  <line x1=\"82\" y1=\"0\" x2=\"97\" y2=\"14\" />\n",
       "  <line x1=\"87\" y1=\"0\" x2=\"102\" y2=\"14\" />\n",
       "  <line x1=\"95\" y1=\"0\" x2=\"110\" y2=\"14\" />\n",
       "  <line x1=\"99\" y1=\"0\" x2=\"114\" y2=\"14\" />\n",
       "  <line x1=\"104\" y1=\"0\" x2=\"119\" y2=\"14\" />\n",
       "  <line x1=\"111\" y1=\"0\" x2=\"126\" y2=\"14\" style=\"stroke-width:2\" />\n",
       "\n",
       "  <!-- Colored Rectangle -->\n",
       "  <polygon points=\"10.0,0.0 111.25261542753522,0.0 126.20121337728962,14.948597949754403 24.9485979497544,14.948597949754403\" style=\"fill:#8B4903A0;stroke-width:0\"/>\n",
       "\n",
       "  <!-- Horizontal lines -->\n",
       "  <line x1=\"24\" y1=\"14\" x2=\"126\" y2=\"14\" style=\"stroke-width:2\" />\n",
       "  <line x1=\"24\" y1=\"19\" x2=\"126\" y2=\"19\" />\n",
       "  <line x1=\"24\" y1=\"27\" x2=\"126\" y2=\"27\" />\n",
       "  <line x1=\"24\" y1=\"32\" x2=\"126\" y2=\"32\" />\n",
       "  <line x1=\"24\" y1=\"40\" x2=\"126\" y2=\"40\" />\n",
       "  <line x1=\"24\" y1=\"44\" x2=\"126\" y2=\"44\" />\n",
       "  <line x1=\"24\" y1=\"53\" x2=\"126\" y2=\"53\" />\n",
       "  <line x1=\"24\" y1=\"57\" x2=\"126\" y2=\"57\" />\n",
       "  <line x1=\"24\" y1=\"66\" x2=\"126\" y2=\"66\" />\n",
       "  <line x1=\"24\" y1=\"70\" x2=\"126\" y2=\"70\" />\n",
       "  <line x1=\"24\" y1=\"79\" x2=\"126\" y2=\"79\" />\n",
       "  <line x1=\"24\" y1=\"83\" x2=\"126\" y2=\"83\" />\n",
       "  <line x1=\"24\" y1=\"92\" x2=\"126\" y2=\"92\" />\n",
       "  <line x1=\"24\" y1=\"96\" x2=\"126\" y2=\"96\" />\n",
       "  <line x1=\"24\" y1=\"104\" x2=\"126\" y2=\"104\" />\n",
       "  <line x1=\"24\" y1=\"109\" x2=\"126\" y2=\"109\" />\n",
       "  <line x1=\"24\" y1=\"117\" x2=\"126\" y2=\"117\" />\n",
       "  <line x1=\"24\" y1=\"122\" x2=\"126\" y2=\"122\" />\n",
       "  <line x1=\"24\" y1=\"130\" x2=\"126\" y2=\"130\" />\n",
       "  <line x1=\"24\" y1=\"134\" x2=\"126\" y2=\"134\" style=\"stroke-width:2\" />\n",
       "\n",
       "  <!-- Vertical lines -->\n",
       "  <line x1=\"24\" y1=\"14\" x2=\"24\" y2=\"134\" style=\"stroke-width:2\" />\n",
       "  <line x1=\"29\" y1=\"14\" x2=\"29\" y2=\"134\" />\n",
       "  <line x1=\"33\" y1=\"14\" x2=\"33\" y2=\"134\" />\n",
       "  <line x1=\"37\" y1=\"14\" x2=\"37\" y2=\"134\" />\n",
       "  <line x1=\"46\" y1=\"14\" x2=\"46\" y2=\"134\" />\n",
       "  <line x1=\"50\" y1=\"14\" x2=\"50\" y2=\"134\" />\n",
       "  <line x1=\"54\" y1=\"14\" x2=\"54\" y2=\"134\" />\n",
       "  <line x1=\"59\" y1=\"14\" x2=\"59\" y2=\"134\" />\n",
       "  <line x1=\"67\" y1=\"14\" x2=\"67\" y2=\"134\" />\n",
       "  <line x1=\"72\" y1=\"14\" x2=\"72\" y2=\"134\" />\n",
       "  <line x1=\"76\" y1=\"14\" x2=\"76\" y2=\"134\" />\n",
       "  <line x1=\"80\" y1=\"14\" x2=\"80\" y2=\"134\" />\n",
       "  <line x1=\"89\" y1=\"14\" x2=\"89\" y2=\"134\" />\n",
       "  <line x1=\"93\" y1=\"14\" x2=\"93\" y2=\"134\" />\n",
       "  <line x1=\"97\" y1=\"14\" x2=\"97\" y2=\"134\" />\n",
       "  <line x1=\"102\" y1=\"14\" x2=\"102\" y2=\"134\" />\n",
       "  <line x1=\"110\" y1=\"14\" x2=\"110\" y2=\"134\" />\n",
       "  <line x1=\"114\" y1=\"14\" x2=\"114\" y2=\"134\" />\n",
       "  <line x1=\"119\" y1=\"14\" x2=\"119\" y2=\"134\" />\n",
       "  <line x1=\"126\" y1=\"14\" x2=\"126\" y2=\"134\" style=\"stroke-width:2\" />\n",
       "\n",
       "  <!-- Colored Rectangle -->\n",
       "  <polygon points=\"24.9485979497544,14.948597949754403 126.20121337728962,14.948597949754403 126.20121337728962,134.9485979497544 24.9485979497544,134.9485979497544\" style=\"fill:#8B4903A0;stroke-width:0\"/>\n",
       "\n",
       "  <!-- Text -->\n",
       "  <text x=\"75.574906\" y=\"154.948598\" font-size=\"1.0rem\" font-weight=\"100\" text-anchor=\"middle\" >6049</text>\n",
       "  <text x=\"146.201213\" y=\"74.948598\" font-size=\"1.0rem\" font-weight=\"100\" text-anchor=\"middle\" transform=\"rotate(-90,146.201213,74.948598)\">7169</text>\n",
       "  <text x=\"7.474299\" y=\"147.474299\" font-size=\"1.0rem\" font-weight=\"100\" text-anchor=\"middle\" transform=\"rotate(45,7.474299,147.474299)\">1</text>\n",
       "</svg>\n",
       "        </td>\n",
       "    </tr>\n",
       "</table>"
      ],
      "text/plain": [
       "dask.array<stardist_2d, shape=(1, 7169, 6049), dtype=uint16, chunksize=(1, 256, 256), chunktype=numpy.ndarray>"
      ]
     },
     "execution_count": 85,
     "metadata": {},
     "output_type": "execute_result"
    }
   ],
   "source": [
    "darr_labelled = darr[800:801,:,:].rechunk((1,chunkdim,chunkdim)).map_blocks(stardist_2d,dtype='uint16')\n",
    "\n",
    "#darr_labelled = darr[800:801,:,:].map_blocks(stardist_2d,dtype='uint16')\n",
    "\n",
    "darr_labelled"
   ]
  },
  {
   "cell_type": "code",
   "execution_count": 86,
   "id": "caab3948-4eac-49fc-9d5f-308ac39b8cbb",
   "metadata": {},
   "outputs": [
    {
     "name": "stdout",
     "output_type": "stream",
     "text": [
      "[########################################] | 100% Completed | 36.22 s\n"
     ]
    }
   ],
   "source": [
    "with ProgressBar():\n",
    "    arr_labelled = darr_labelled.compute()"
   ]
  },
  {
   "cell_type": "code",
   "execution_count": 77,
   "id": "10a9f457-a1f1-4ca2-a09c-d7e29e6c1565",
   "metadata": {},
   "outputs": [
    {
     "data": {
      "text/plain": [
       "30000"
      ]
     },
     "execution_count": 77,
     "metadata": {},
     "output_type": "execute_result"
    }
   ],
   "source": [
    "max_intensity"
   ]
  },
  {
   "cell_type": "code",
   "execution_count": 88,
   "id": "dd3e521c-7907-44c5-8d18-70012aea25e8",
   "metadata": {},
   "outputs": [
    {
     "data": {
      "text/plain": [
       "Text(0.5, 1.0, 'prediction + input overlay')"
      ]
     },
     "execution_count": 88,
     "metadata": {},
     "output_type": "execute_result"
    },
    {
     "data": {
      "image/png": "[encoded data removed]",
      "text/plain": [
       "<Figure size 640x480 with 3 Axes>"
      ]
     },
     "metadata": {},
     "output_type": "display_data"
    }
   ],
   "source": [
    "\n",
    "plt.subplot(1,2,1)\n",
    "plt.imshow(darr[800,:,:], cmap=\"gray\")\n",
    "plt.axis(\"off\")\n",
    "plt.title(\"input image\")\n",
    "\n",
    "plt.subplot(1,2,2)\n",
    "plt.imshow(arr_labelled[0,:,:])\n",
    "plt.colorbar()\n",
    "plt.axis(\"off\")\n",
    "plt.title(\"prediction + input overlay\")"
   ]
  },
  {
   "cell_type": "code",
   "execution_count": 90,
   "id": "00bfe84a-af38-4581-bbf6-3710482fa6a2",
   "metadata": {},
   "outputs": [],
   "source": [
    "#save as nifti to overlay in itksnap\n",
    "import nibabel as nib\n",
    "nib_img = nib.Nifti1Image(darr[800:801,:,:],affine=np.eye(4))\n",
    "nib_img.to_filename('test_img.nii')"
   ]
  },
  {
   "cell_type": "code",
   "execution_count": 91,
   "id": "b528cf71-fa39-4466-9d51-8007f4dea0d5",
   "metadata": {},
   "outputs": [],
   "source": [
    "nib_lbl = nib.Nifti1Image(arr_labelled,affine=np.eye(4))\n",
    "nib_lbl.to_filename('test_lbl.nii')\n"
   ]
  },
  {
   "cell_type": "code",
   "execution_count": null,
   "id": "a10a9d34-e501-4792-938f-57af9ead8ecd",
   "metadata": {},
   "outputs": [],
   "source": []
  }
 ],
 "metadata": {
  "kernelspec": {
   "display_name": "Python 3 (ipykernel)",
   "language": "python",
   "name": "python3"
  },
  "language_info": {
   "codemirror_mode": {
    "name": "ipython",
    "version": 3
   },
   "file_extension": ".py",
   "mimetype": "text/x-python",
   "name": "python",
   "nbconvert_exporter": "python",
   "pygments_lexer": "ipython3",
   "version": "3.11.7"
  }
 },
 "nbformat": 4,
 "nbformat_minor": 5
}
